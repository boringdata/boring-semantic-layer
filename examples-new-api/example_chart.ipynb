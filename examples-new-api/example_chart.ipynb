{
 "cells": [
  {
   "cell_type": "code",
   "execution_count": 1,
   "id": "125abc5f",
   "metadata": {},
   "outputs": [
    {
     "ename": "SignatureValidationError",
     "evalue": "SemanticTable(table=DatabaseTable: ibis_read_parquet_3zgsdmhuwffrjdxwwnx66ndacy\n  carrier     string\n  origin      string\n  destination string\n  flight_num  string\n  flight_time int64\n  tail_num    string\n  dep_time    timestamp(6)\n  arr_time    timestamp(6)\n  dep_delay   int64\n  arr_delay   int64\n  taxi_out    int64\n  taxi_in     int64\n  distance    int64\n  cancelled   string\n  diverted    string\n  id2         int64, dimensions={}, measures={}, description='') missing a required argument: 'dimension_descriptions'\n\nExpected signature: SemanticTable(table: Any, dimensions: Any, measures: Any, description: str, dimension_descriptions: Any, measure_descriptions: Any)",
     "output_type": "error",
     "traceback": [
      "\u001b[0;31m---------------------------------------------------------------------------\u001b[0m",
      "\u001b[0;31mTypeError\u001b[0m                                 Traceback (most recent call last)",
      "File \u001b[0;32m~/Documents/wik/wikumeo/projects/boring-semantic-layer/.venv/lib/python3.10/site-packages/ibis/common/annotations.py:478\u001b[0m, in \u001b[0;36mSignature.validate\u001b[0;34m(self, func, args, kwargs)\u001b[0m\n\u001b[1;32m    477\u001b[0m \u001b[38;5;28;01mtry\u001b[39;00m:\n\u001b[0;32m--> 478\u001b[0m     bound \u001b[38;5;241m=\u001b[39m \u001b[38;5;28;43mself\u001b[39;49m\u001b[38;5;241;43m.\u001b[39;49m\u001b[43mbind\u001b[49m\u001b[43m(\u001b[49m\u001b[38;5;241;43m*\u001b[39;49m\u001b[43margs\u001b[49m\u001b[43m,\u001b[49m\u001b[43m \u001b[49m\u001b[38;5;241;43m*\u001b[39;49m\u001b[38;5;241;43m*\u001b[39;49m\u001b[43mkwargs\u001b[49m\u001b[43m)\u001b[49m\n\u001b[1;32m    479\u001b[0m     bound\u001b[38;5;241m.\u001b[39mapply_defaults()\n",
      "File \u001b[0;32m~/.local/share/uv/python/cpython-3.10.15-macos-aarch64-none/lib/python3.10/inspect.py:3186\u001b[0m, in \u001b[0;36mSignature.bind\u001b[0;34m(self, *args, **kwargs)\u001b[0m\n\u001b[1;32m   3182\u001b[0m \u001b[38;5;250m\u001b[39m\u001b[38;5;124;03m\"\"\"Get a BoundArguments object, that maps the passed `args`\u001b[39;00m\n\u001b[1;32m   3183\u001b[0m \u001b[38;5;124;03mand `kwargs` to the function's signature.  Raises `TypeError`\u001b[39;00m\n\u001b[1;32m   3184\u001b[0m \u001b[38;5;124;03mif the passed arguments can not be bound.\u001b[39;00m\n\u001b[1;32m   3185\u001b[0m \u001b[38;5;124;03m\"\"\"\u001b[39;00m\n\u001b[0;32m-> 3186\u001b[0m \u001b[38;5;28;01mreturn\u001b[39;00m \u001b[38;5;28;43mself\u001b[39;49m\u001b[38;5;241;43m.\u001b[39;49m\u001b[43m_bind\u001b[49m\u001b[43m(\u001b[49m\u001b[43margs\u001b[49m\u001b[43m,\u001b[49m\u001b[43m \u001b[49m\u001b[43mkwargs\u001b[49m\u001b[43m)\u001b[49m\n",
      "File \u001b[0;32m~/.local/share/uv/python/cpython-3.10.15-macos-aarch64-none/lib/python3.10/inspect.py:3156\u001b[0m, in \u001b[0;36mSignature._bind\u001b[0;34m(self, args, kwargs, partial)\u001b[0m\n\u001b[1;32m   3154\u001b[0m     \u001b[38;5;28;01mif\u001b[39;00m (\u001b[38;5;129;01mnot\u001b[39;00m partial \u001b[38;5;129;01mand\u001b[39;00m param\u001b[38;5;241m.\u001b[39mkind \u001b[38;5;241m!=\u001b[39m _VAR_POSITIONAL \u001b[38;5;129;01mand\u001b[39;00m\n\u001b[1;32m   3155\u001b[0m                                         param\u001b[38;5;241m.\u001b[39mdefault \u001b[38;5;129;01mis\u001b[39;00m _empty):\n\u001b[0;32m-> 3156\u001b[0m         \u001b[38;5;28;01mraise\u001b[39;00m \u001b[38;5;167;01mTypeError\u001b[39;00m(\u001b[38;5;124m'\u001b[39m\u001b[38;5;124mmissing a required argument: \u001b[39m\u001b[38;5;132;01m{arg!r}\u001b[39;00m\u001b[38;5;124m'\u001b[39m\u001b[38;5;241m.\u001b[39m \\\n\u001b[1;32m   3157\u001b[0m                         \u001b[38;5;28mformat\u001b[39m(arg\u001b[38;5;241m=\u001b[39mparam_name)) \u001b[38;5;28;01mfrom\u001b[39;00m\u001b[38;5;250m \u001b[39m\u001b[38;5;28;01mNone\u001b[39;00m\n\u001b[1;32m   3159\u001b[0m \u001b[38;5;28;01melse\u001b[39;00m:\n",
      "\u001b[0;31mTypeError\u001b[0m: missing a required argument: 'dimension_descriptions'",
      "\nThe above exception was the direct cause of the following exception:\n",
      "\u001b[0;31mSignatureValidationError\u001b[0m                  Traceback (most recent call last)",
      "Cell \u001b[0;32mIn[1], line 2\u001b[0m\n\u001b[1;32m      1\u001b[0m \u001b[38;5;66;03m# Get semantic table from example_basic.py using the new API\u001b[39;00m\n\u001b[0;32m----> 2\u001b[0m \u001b[38;5;28;01mfrom\u001b[39;00m\u001b[38;5;250m \u001b[39m\u001b[38;5;21;01mexample_basic\u001b[39;00m\u001b[38;5;250m \u001b[39m\u001b[38;5;28;01mimport\u001b[39;00m flights_sm\n\u001b[1;32m      3\u001b[0m \u001b[38;5;28;01mfrom\u001b[39;00m\u001b[38;5;250m \u001b[39m\u001b[38;5;21;01mIPython\u001b[39;00m\u001b[38;5;21;01m.\u001b[39;00m\u001b[38;5;21;01mdisplay\u001b[39;00m\u001b[38;5;250m \u001b[39m\u001b[38;5;28;01mimport\u001b[39;00m Image\n\u001b[1;32m      4\u001b[0m \u001b[38;5;28;01mimport\u001b[39;00m\u001b[38;5;250m \u001b[39m\u001b[38;5;21;01mibis\u001b[39;00m\n",
      "File \u001b[0;32m~/Documents/wik/wikumeo/projects/boring-semantic-layer/examples-new-api/example_basic.py:40\u001b[0m\n\u001b[1;32m     34\u001b[0m BASE_URL \u001b[38;5;241m=\u001b[39m \u001b[38;5;124m\"\u001b[39m\u001b[38;5;124mhttps://pub-a45a6a332b4646f2a6f44775695c64df.r2.dev\u001b[39m\u001b[38;5;124m\"\u001b[39m\n\u001b[1;32m     35\u001b[0m tables \u001b[38;5;241m=\u001b[39m {\n\u001b[1;32m     36\u001b[0m     \u001b[38;5;124m\"\u001b[39m\u001b[38;5;124mflights_tbl\u001b[39m\u001b[38;5;124m\"\u001b[39m: con\u001b[38;5;241m.\u001b[39mread_parquet(\u001b[38;5;124mf\u001b[39m\u001b[38;5;124m\"\u001b[39m\u001b[38;5;132;01m{\u001b[39;00mBASE_URL\u001b[38;5;132;01m}\u001b[39;00m\u001b[38;5;124m/flights.parquet\u001b[39m\u001b[38;5;124m\"\u001b[39m),\n\u001b[1;32m     37\u001b[0m     \u001b[38;5;124m\"\u001b[39m\u001b[38;5;124mcarriers_tbl\u001b[39m\u001b[38;5;124m\"\u001b[39m: con\u001b[38;5;241m.\u001b[39mread_parquet(\u001b[38;5;124mf\u001b[39m\u001b[38;5;124m\"\u001b[39m\u001b[38;5;132;01m{\u001b[39;00mBASE_URL\u001b[38;5;132;01m}\u001b[39;00m\u001b[38;5;124m/carriers.parquet\u001b[39m\u001b[38;5;124m\"\u001b[39m),\n\u001b[1;32m     38\u001b[0m }\n\u001b[0;32m---> 40\u001b[0m flights_sm \u001b[38;5;241m=\u001b[39m \u001b[43mSemanticTable\u001b[49m\u001b[38;5;241;43m.\u001b[39;49m\u001b[43mfrom_yaml\u001b[49m\u001b[43m(\u001b[49m\u001b[38;5;124;43m\"\u001b[39;49m\u001b[38;5;124;43mexample_basic.yml\u001b[39;49m\u001b[38;5;124;43m\"\u001b[39;49m\u001b[43m,\u001b[49m\u001b[43m \u001b[49m\u001b[43mtables\u001b[49m\u001b[38;5;241;43m=\u001b[39;49m\u001b[43mtables\u001b[49m\u001b[43m)\u001b[49m\n\u001b[1;32m     42\u001b[0m \u001b[38;5;28;01mif\u001b[39;00m \u001b[38;5;18m__name__\u001b[39m \u001b[38;5;241m==\u001b[39m \u001b[38;5;124m\"\u001b[39m\u001b[38;5;124m__main__\u001b[39m\u001b[38;5;124m\"\u001b[39m:\n\u001b[1;32m     43\u001b[0m     \u001b[38;5;28mprint\u001b[39m(\u001b[38;5;124m\"\u001b[39m\u001b[38;5;124m=== Single Table API Demo ===\u001b[39m\u001b[38;5;124m\"\u001b[39m)\n",
      "File \u001b[0;32m~/Documents/wik/wikumeo/projects/boring-semantic-layer/src/boring_semantic_layer/semantic_api/ops.py:103\u001b[0m, in \u001b[0;36mSemanticTable.from_yaml\u001b[0;34m(cls, yaml_path, tables)\u001b[0m\n\u001b[1;32m    101\u001b[0m \u001b[38;5;250m\u001b[39m\u001b[38;5;124;03m\"\"\"Load single semantic table from YAML file (Malloy-style).\"\"\"\u001b[39;00m\n\u001b[1;32m    102\u001b[0m \u001b[38;5;28;01mfrom\u001b[39;00m\u001b[38;5;250m \u001b[39m\u001b[38;5;21;01m.\u001b[39;00m\u001b[38;5;21;01myaml_loader\u001b[39;00m\u001b[38;5;250m \u001b[39m\u001b[38;5;28;01mimport\u001b[39;00m load_table\n\u001b[0;32m--> 103\u001b[0m \u001b[38;5;28;01mreturn\u001b[39;00m \u001b[43mload_table\u001b[49m\u001b[43m(\u001b[49m\u001b[43myaml_path\u001b[49m\u001b[43m,\u001b[49m\u001b[43m \u001b[49m\u001b[43mtables\u001b[49m\u001b[43m)\u001b[49m\n",
      "File \u001b[0;32m~/Documents/wik/wikumeo/projects/boring-semantic-layer/src/boring_semantic_layer/semantic_api/yaml_loader.py:151\u001b[0m, in \u001b[0;36mload_table\u001b[0;34m(yaml_path, tables)\u001b[0m\n\u001b[1;32m    148\u001b[0m description \u001b[38;5;241m=\u001b[39m config\u001b[38;5;241m.\u001b[39mget(\u001b[38;5;124m\"\u001b[39m\u001b[38;5;124mdescription\u001b[39m\u001b[38;5;124m\"\u001b[39m, \u001b[38;5;124m\"\u001b[39m\u001b[38;5;124m\"\u001b[39m)\n\u001b[1;32m    150\u001b[0m \u001b[38;5;66;03m# Create base semantic table with description\u001b[39;00m\n\u001b[0;32m--> 151\u001b[0m sem_table \u001b[38;5;241m=\u001b[39m \u001b[43mto_semantic_table\u001b[49m\u001b[43m(\u001b[49m\u001b[43mbase_table\u001b[49m\u001b[43m,\u001b[49m\u001b[43m \u001b[49m\u001b[43mdescription\u001b[49m\u001b[38;5;241;43m=\u001b[39;49m\u001b[43mdescription\u001b[49m\u001b[43m)\u001b[49m\n\u001b[1;32m    153\u001b[0m \u001b[38;5;28;01mif\u001b[39;00m dimensions:\n\u001b[1;32m    154\u001b[0m     sem_table \u001b[38;5;241m=\u001b[39m with_dimensions(sem_table, \u001b[38;5;241m*\u001b[39m\u001b[38;5;241m*\u001b[39mdimensions)\n",
      "File \u001b[0;32m~/Documents/wik/wikumeo/projects/boring-semantic-layer/src/boring_semantic_layer/semantic_api/api.py:204\u001b[0m, in \u001b[0;36mto_semantic_table\u001b[0;34m(table, description)\u001b[0m\n\u001b[1;32m    203\u001b[0m \u001b[38;5;28;01mdef\u001b[39;00m\u001b[38;5;250m \u001b[39m\u001b[38;5;21mto_semantic_table\u001b[39m(table: IbisTable, description: \u001b[38;5;28mstr\u001b[39m \u001b[38;5;241m=\u001b[39m \u001b[38;5;124m\"\u001b[39m\u001b[38;5;124m\"\u001b[39m) \u001b[38;5;241m-\u001b[39m\u001b[38;5;241m>\u001b[39m SemanticTableExpr:\n\u001b[0;32m--> 204\u001b[0m     node \u001b[38;5;241m=\u001b[39m \u001b[43mSemanticTable\u001b[49m\u001b[43m(\u001b[49m\u001b[43mtable\u001b[49m\u001b[38;5;241;43m=\u001b[39;49m\u001b[43mtable\u001b[49m\u001b[43m,\u001b[49m\u001b[43m \u001b[49m\u001b[43mdimensions\u001b[49m\u001b[38;5;241;43m=\u001b[39;49m\u001b[43m{\u001b[49m\u001b[43m}\u001b[49m\u001b[43m,\u001b[49m\u001b[43m \u001b[49m\u001b[43mmeasures\u001b[49m\u001b[38;5;241;43m=\u001b[39;49m\u001b[43m{\u001b[49m\u001b[43m}\u001b[49m\u001b[43m,\u001b[49m\u001b[43m \u001b[49m\u001b[43mdescription\u001b[49m\u001b[38;5;241;43m=\u001b[39;49m\u001b[43mdescription\u001b[49m\u001b[43m)\u001b[49m\n\u001b[1;32m    205\u001b[0m     \u001b[38;5;28;01mreturn\u001b[39;00m SemanticTableExpr(node)\n",
      "File \u001b[0;32m~/Documents/wik/wikumeo/projects/boring-semantic-layer/.venv/lib/python3.10/site-packages/ibis/common/bases.py:72\u001b[0m, in \u001b[0;36mAbstractMeta.__call__\u001b[0;34m(cls, *args, **kwargs)\u001b[0m\n\u001b[1;32m     52\u001b[0m \u001b[38;5;28;01mdef\u001b[39;00m\u001b[38;5;250m \u001b[39m\u001b[38;5;21m__call__\u001b[39m(\u001b[38;5;28mcls\u001b[39m, \u001b[38;5;241m*\u001b[39margs, \u001b[38;5;241m*\u001b[39m\u001b[38;5;241m*\u001b[39mkwargs):\n\u001b[1;32m     53\u001b[0m \u001b[38;5;250m    \u001b[39m\u001b[38;5;124;03m\"\"\"Create a new instance of the class.\u001b[39;00m\n\u001b[1;32m     54\u001b[0m \n\u001b[1;32m     55\u001b[0m \u001b[38;5;124;03m    The subclass may override the `__create__` classmethod to change the\u001b[39;00m\n\u001b[0;32m   (...)\u001b[0m\n\u001b[1;32m     70\u001b[0m \n\u001b[1;32m     71\u001b[0m \u001b[38;5;124;03m    \"\"\"\u001b[39;00m\n\u001b[0;32m---> 72\u001b[0m     \u001b[38;5;28;01mreturn\u001b[39;00m \u001b[38;5;28;43mcls\u001b[39;49m\u001b[38;5;241;43m.\u001b[39;49m\u001b[43m__create__\u001b[49m\u001b[43m(\u001b[49m\u001b[38;5;241;43m*\u001b[39;49m\u001b[43margs\u001b[49m\u001b[43m,\u001b[49m\u001b[43m \u001b[49m\u001b[38;5;241;43m*\u001b[39;49m\u001b[38;5;241;43m*\u001b[39;49m\u001b[43mkwargs\u001b[49m\u001b[43m)\u001b[49m\n",
      "File \u001b[0;32m~/Documents/wik/wikumeo/projects/boring-semantic-layer/.venv/lib/python3.10/site-packages/ibis/common/grounds.py:119\u001b[0m, in \u001b[0;36mAnnotable.__create__\u001b[0;34m(cls, *args, **kwargs)\u001b[0m\n\u001b[1;32m    116\u001b[0m \u001b[38;5;129m@classmethod\u001b[39m\n\u001b[1;32m    117\u001b[0m \u001b[38;5;28;01mdef\u001b[39;00m\u001b[38;5;250m \u001b[39m\u001b[38;5;21m__create__\u001b[39m(\u001b[38;5;28mcls\u001b[39m, \u001b[38;5;241m*\u001b[39margs: Any, \u001b[38;5;241m*\u001b[39m\u001b[38;5;241m*\u001b[39mkwargs: Any) \u001b[38;5;241m-\u001b[39m\u001b[38;5;241m>\u001b[39m Self:\n\u001b[1;32m    118\u001b[0m     \u001b[38;5;66;03m# construct the instance by passing only validated keyword arguments\u001b[39;00m\n\u001b[0;32m--> 119\u001b[0m     kwargs \u001b[38;5;241m=\u001b[39m \u001b[38;5;28;43mcls\u001b[39;49m\u001b[38;5;241;43m.\u001b[39;49m\u001b[43m__signature__\u001b[49m\u001b[38;5;241;43m.\u001b[39;49m\u001b[43mvalidate\u001b[49m\u001b[43m(\u001b[49m\u001b[38;5;28;43mcls\u001b[39;49m\u001b[43m,\u001b[49m\u001b[43m \u001b[49m\u001b[43margs\u001b[49m\u001b[43m,\u001b[49m\u001b[43m \u001b[49m\u001b[43mkwargs\u001b[49m\u001b[43m)\u001b[49m\n\u001b[1;32m    120\u001b[0m     \u001b[38;5;28;01mreturn\u001b[39;00m \u001b[38;5;28msuper\u001b[39m()\u001b[38;5;241m.\u001b[39m__create__(\u001b[38;5;241m*\u001b[39m\u001b[38;5;241m*\u001b[39mkwargs)\n",
      "File \u001b[0;32m~/Documents/wik/wikumeo/projects/boring-semantic-layer/.venv/lib/python3.10/site-packages/ibis/common/annotations.py:481\u001b[0m, in \u001b[0;36mSignature.validate\u001b[0;34m(self, func, args, kwargs)\u001b[0m\n\u001b[1;32m    479\u001b[0m     bound\u001b[38;5;241m.\u001b[39mapply_defaults()\n\u001b[1;32m    480\u001b[0m \u001b[38;5;28;01mexcept\u001b[39;00m \u001b[38;5;167;01mTypeError\u001b[39;00m \u001b[38;5;28;01mas\u001b[39;00m err:\n\u001b[0;32m--> 481\u001b[0m     \u001b[38;5;28;01mraise\u001b[39;00m SignatureValidationError(\n\u001b[1;32m    482\u001b[0m         \u001b[38;5;124m\"\u001b[39m\u001b[38;5;132;01m{call}\u001b[39;00m\u001b[38;5;124m \u001b[39m\u001b[38;5;132;01m{cause}\u001b[39;00m\u001b[38;5;130;01m\\n\u001b[39;00m\u001b[38;5;130;01m\\n\u001b[39;00m\u001b[38;5;124mExpected signature: \u001b[39m\u001b[38;5;132;01m{sig}\u001b[39;00m\u001b[38;5;124m\"\u001b[39m,\n\u001b[1;32m    483\u001b[0m         sig\u001b[38;5;241m=\u001b[39m\u001b[38;5;28mself\u001b[39m,\n\u001b[1;32m    484\u001b[0m         func\u001b[38;5;241m=\u001b[39mfunc,\n\u001b[1;32m    485\u001b[0m         args\u001b[38;5;241m=\u001b[39margs,\n\u001b[1;32m    486\u001b[0m         kwargs\u001b[38;5;241m=\u001b[39mkwargs,\n\u001b[1;32m    487\u001b[0m     ) \u001b[38;5;28;01mfrom\u001b[39;00m\u001b[38;5;250m \u001b[39m\u001b[38;5;21;01merr\u001b[39;00m\n\u001b[1;32m    489\u001b[0m this, errors \u001b[38;5;241m=\u001b[39m {}, []\n\u001b[1;32m    490\u001b[0m \u001b[38;5;28;01mfor\u001b[39;00m name, value \u001b[38;5;129;01min\u001b[39;00m bound\u001b[38;5;241m.\u001b[39marguments\u001b[38;5;241m.\u001b[39mitems():\n",
      "\u001b[0;31mSignatureValidationError\u001b[0m: SemanticTable(table=DatabaseTable: ibis_read_parquet_3zgsdmhuwffrjdxwwnx66ndacy\n  carrier     string\n  origin      string\n  destination string\n  flight_num  string\n  flight_time int64\n  tail_num    string\n  dep_time    timestamp(6)\n  arr_time    timestamp(6)\n  dep_delay   int64\n  arr_delay   int64\n  taxi_out    int64\n  taxi_in     int64\n  distance    int64\n  cancelled   string\n  diverted    string\n  id2         int64, dimensions={}, measures={}, description='') missing a required argument: 'dimension_descriptions'\n\nExpected signature: SemanticTable(table: Any, dimensions: Any, measures: Any, description: str, dimension_descriptions: Any, measure_descriptions: Any)"
     ]
    }
   ],
   "source": [
    "# Get semantic table from example_basic.py using the new API\n",
    "from example_basic import flights_sm\n",
    "from IPython.display import Image\n",
    "import ibis"
   ]
  },
  {
   "cell_type": "markdown",
   "id": "41aq5qmulx5",
   "metadata": {},
   "source": [
    "# Auto chart detection example: bar chart"
   ]
  },
  {
   "cell_type": "code",
   "execution_count": null,
   "id": "6732879a",
   "metadata": {},
   "outputs": [],
   "source": [
    "# Auto chart detection example: bar chart using new semantic API\n",
    "# Note: We use Image to display image in Github.\n",
    "# For regular usage, you can use .chart() and the result will be displayed in the notebook.\n",
    "\n",
    "# Create query using new semantic API methods, then chart\n",
    "query_result = (\n",
    "    flights_sm.group_by(\"destination\")\n",
    "    .aggregate(\n",
    "        avg_distance=lambda t: t.distance.mean(), flight_count=lambda t: t.count()\n",
    "    )\n",
    "    .order_by(ibis.desc(\"avg_distance\"))\n",
    "    .limit(10)\n",
    ")\n",
    "\n",
    "Image(query_result.chart(format=\"png\"))"
   ]
  },
  {
   "cell_type": "markdown",
   "id": "zp8ie62a21d",
   "metadata": {},
   "source": [
    "# Auto chart detection example: time-series"
   ]
  },
  {
   "cell_type": "code",
   "execution_count": null,
   "id": "2ab41a11",
   "metadata": {},
   "outputs": [],
   "source": [
    "# Auto chart detection example: time-series using new semantic API\n",
    "# Note: We use Image to display image in Github.\n",
    "# For regular usage, you can use .chart() and the result will be displayed in the notebook.\n",
    "\n",
    "# Time-series chart with filtering - adapted for new semantic API\n",
    "# Note: Time filtering and grains are not yet implemented in the new API\n",
    "# This is a simplified version showing the pattern\n",
    "\n",
    "query_result = (\n",
    "    flights_sm.group_by(\"arr_time\", \"origin\")\n",
    "    .aggregate(flight_count=lambda t: t.count())\n",
    "    .filter(lambda t: t.origin.isin([\"ATL\", \"LAX\"]))\n",
    "    .limit(50)  # Limit for performance\n",
    ")\n",
    "\n",
    "Image(query_result.chart(format=\"png\"))"
   ]
  },
  {
   "cell_type": "markdown",
   "id": "vi9h30iwx78",
   "metadata": {},
   "source": [
    "# Auto chart detection example: heatmap"
   ]
  },
  {
   "cell_type": "code",
   "execution_count": null,
   "id": "88f2d271",
   "metadata": {},
   "outputs": [],
   "source": [
    "# Auto chart detection example: heatmap using new semantic API\n",
    "# Note: We use Image to display image in Github.\n",
    "# For regular usage, you can use .chart() and the result will be displayed in the notebook.\n",
    "\n",
    "query_result = (\n",
    "    flights_sm.group_by(\"destination\", \"origin\")\n",
    "    .aggregate(flight_count=lambda t: t.count())\n",
    "    .limit(25)\n",
    ")\n",
    "\n",
    "Image(query_result.chart({\"height\": 300, \"width\": 300}, format=\"png\"))"
   ]
  },
  {
   "cell_type": "markdown",
   "id": "ppzhxc5yo5t",
   "metadata": {},
   "source": [
    "# Only change the mark, keep auto-detection for the rest"
   ]
  },
  {
   "cell_type": "code",
   "execution_count": null,
   "id": "3f2cc9da",
   "metadata": {},
   "outputs": [],
   "source": [
    "# Only change the mark, keep auto-detection for the rest using new semantic API\n",
    "# Note: We use Image to display image in Github.\n",
    "# For regular usage, you can use .chart() and the result will be displayed in the notebook.\n",
    "\n",
    "query_result = (\n",
    "    flights_sm.group_by(\"destination\")\n",
    "    .aggregate(\n",
    "        avg_distance=lambda t: t.distance.mean(), flight_count=lambda t: t.count()\n",
    "    )\n",
    "    .order_by(ibis.desc(\"avg_distance\"))\n",
    "    .limit(20)\n",
    ")\n",
    "\n",
    "Image(query_result.chart({\"mark\": \"line\"}, format=\"png\"))"
   ]
  },
  {
   "cell_type": "markdown",
   "id": "iluz01qe9sg",
   "metadata": {},
   "source": [
    "# Query with chart customization"
   ]
  },
  {
   "cell_type": "code",
   "execution_count": null,
   "id": "834930e5",
   "metadata": {},
   "outputs": [],
   "source": [
    "# Query with chart customization using new semantic API\n",
    "# Note: We use Image to display image in Github.\n",
    "# For regular usage, you can use .chart() and the result will be displayed in the notebook.\n",
    "# Note: Time filtering and grains are not yet implemented in the new API\n",
    "# This is a simplified version showing the pattern\n",
    "\n",
    "query_result = (\n",
    "    flights_sm.group_by(\"arr_time\", \"origin\")\n",
    "    .aggregate(flight_count=lambda t: t.count())\n",
    "    .filter(lambda t: t.origin.isin([\"ATL\", \"LAX\"]))\n",
    "    .limit(100)  # Limit for performance\n",
    ")\n",
    "\n",
    "Image(\n",
    "    query_result.chart(\n",
    "        spec={\n",
    "            \"mark\": \"line\",\n",
    "            \"encoding\": {\n",
    "                \"x\": {\n",
    "                    \"field\": \"arr_time\",\n",
    "                    \"type\": \"temporal\",\n",
    "                    \"axis\": {\n",
    "                        \"labelOverlap\": True,\n",
    "                        \"tickCount\": 20,\n",
    "                        \"labelAngle\": -45,\n",
    "                    },\n",
    "                },\n",
    "                \"y\": {\"field\": \"flight_count\", \"type\": \"quantitative\"},\n",
    "                \"color\": {\"field\": \"origin\", \"type\": \"nominal\"},\n",
    "            },\n",
    "            \"width\": 500,\n",
    "            \"height\": 300,\n",
    "        },\n",
    "        format=\"png\",\n",
    "    )\n",
    ")"
   ]
  },
  {
   "cell_type": "markdown",
   "id": "hlgzjyfx63",
   "metadata": {},
   "source": [
    "# Output format in vega-lite json"
   ]
  },
  {
   "cell_type": "code",
   "execution_count": null,
   "id": "83ac12eb",
   "metadata": {},
   "outputs": [],
   "source": [
    "# Output format in vega-lite json using new semantic API\n",
    "# This option is great for passing the chart spec to a frontend (e.g. in an MCP server context).\n",
    "\n",
    "query_result = (\n",
    "    flights_sm.group_by(\"destination\")\n",
    "    .aggregate(avg_distance=lambda t: t.distance.mean())\n",
    "    .order_by(ibis.desc(\"avg_distance\"))\n",
    "    .limit(20)\n",
    ")\n",
    "\n",
    "query_result.chart(format=\"json\")"
   ]
  }
 ],
 "metadata": {
  "kernelspec": {
   "display_name": ".venv",
   "language": "python",
   "name": "python3"
  },
  "language_info": {
   "codemirror_mode": {
    "name": "ipython",
    "version": 3
   },
   "file_extension": ".py",
   "mimetype": "text/x-python",
   "name": "python",
   "nbconvert_exporter": "python",
   "pygments_lexer": "ipython3",
   "version": "3.10.15"
  }
 },
 "nbformat": 4,
 "nbformat_minor": 5
}
