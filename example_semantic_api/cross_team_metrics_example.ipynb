{
 "cells": [
  {
   "cell_type": "markdown",
   "metadata": {},
   "source": [
    "# Cross-Team Semantic Table Example\n",
    "\n",
    "This example demonstrates how different teams can define their own semantic tables and combine them to create cross-functional metrics."
   ]
  },
  {
   "cell_type": "code",
   "execution_count": 1,
   "metadata": {},
   "outputs": [],
   "source": [
    "from boring_semantic_layer.semantic_api import to_semantic_table\n",
    "import ibis\n",
    "import pandas as pd"
   ]
  },
  {
   "cell_type": "markdown",
   "metadata": {},
   "source": [
    "## Setup: Create Mock Data\n",
    "\n",
    "Let's create sample data for marketing's Users table and support's SupportCases table."
   ]
  },
  {
   "cell_type": "code",
   "execution_count": 2,
   "metadata": {},
   "outputs": [],
   "source": [
    "# Marketing team's user data\n",
    "users_data = pd.DataFrame({\n",
    "    'customer_id': [1, 2, 3, 4, 5, 6, 7, 8, 9, 10],\n",
    "    'segment': ['Enterprise', 'SMB', 'Enterprise', 'SMB', 'Enterprise', \n",
    "                'SMB', 'Enterprise', 'SMB', 'Enterprise', 'SMB'],\n",
    "    'signup_date': pd.to_datetime(['2023-01-15', '2023-02-20', '2023-01-10', \n",
    "                                   '2023-03-05', '2023-02-15', '2023-03-20',\n",
    "                                   '2023-01-25', '2023-02-28', '2023-03-10',\n",
    "                                   '2023-03-15']),\n",
    "    'monthly_spend': [5000, 500, 8000, 300, 6000, 400, 7000, 600, 9000, 350]\n",
    "})\n",
    "\n",
    "# Support team's case data\n",
    "support_cases_data = pd.DataFrame({\n",
    "    'case_id': range(1, 26),\n",
    "    'customer_id': [1, 1, 1, 2, 3, 3, 3, 3, 4, 5, 5, 6, 7, 7, 8, 8, 8, 9, 9, 10,\n",
    "                    1, 3, 5, 7, 9],\n",
    "    'created_date': pd.to_datetime(['2023-02-01', '2023-02-15', '2023-03-01',\n",
    "                                    '2023-03-10', '2023-02-05', '2023-02-20',\n",
    "                                    '2023-03-05', '2023-03-15', '2023-03-20',\n",
    "                                    '2023-03-01', '2023-03-10', '2023-03-25',\n",
    "                                    '2023-02-10', '2023-03-05', '2023-03-15',\n",
    "                                    '2023-03-18', '2023-03-22', '2023-03-12',\n",
    "                                    '2023-03-20', '2023-03-25', '2023-03-28',\n",
    "                                    '2023-03-30', '2023-04-01', '2023-04-02',\n",
    "                                    '2023-04-03']),\n",
    "    'priority': ['High', 'Medium', 'Low', 'High', 'High', 'High', 'Medium', 'Low',\n",
    "                 'Medium', 'High', 'Medium', 'Low', 'High', 'Medium', 'High',\n",
    "                 'Medium', 'Low', 'High', 'Medium', 'Low', 'High', 'High',\n",
    "                 'Medium', 'Low', 'High']\n",
    "})\n",
    "\n",
    "# Create Ibis tables\n",
    "users_table = ibis.memtable(users_data, name='users')\n",
    "support_cases_table = ibis.memtable(support_cases_data, name='support_cases')"
   ]
  },
  {
   "cell_type": "markdown",
   "metadata": {},
   "source": [
    "## Step 1: Marketing Team Defines Users Semantic Table"
   ]
  },
  {
   "cell_type": "code",
   "execution_count": 3,
   "metadata": {},
   "outputs": [
    {
     "name": "stdout",
     "output_type": "stream",
     "text": [
      "Marketing Metrics by Segment:\n",
      "      segment  user_count  total_revenue  avg_revenue_per_user\n",
      "0         SMB           5           2150                 430.0\n",
      "1  Enterprise           5          35000                7000.0\n"
     ]
    }
   ],
   "source": [
    "# Marketing team defines their semantic table\n",
    "marketing_st = (\n",
    "    to_semantic_table(users_table, name=\"users\")\n",
    "    .with_dimensions(\n",
    "        customer_id=lambda t: t.customer_id,\n",
    "        segment=lambda t: t.segment,\n",
    "        signup_date=lambda t: t.signup_date\n",
    "    )\n",
    "    .with_measures(\n",
    "        user_count=lambda t: t.customer_id.count(),\n",
    "        total_revenue=lambda t: t.monthly_spend.sum(),\n",
    "        avg_revenue_per_user=lambda t: t.monthly_spend.mean()\n",
    "    )\n",
    ")\n",
    "\n",
    "# Marketing team can query their metrics\n",
    "marketing_metrics = (\n",
    "    marketing_st\n",
    "    .group_by(\"segment\")\n",
    "    .aggregate(\n",
    "        user_count=lambda t: t.user_count,\n",
    "        total_revenue=lambda t: t.total_revenue,\n",
    "        avg_revenue_per_user=lambda t: t.avg_revenue_per_user\n",
    "    )\n",
    ")\n",
    "print(\"Marketing Metrics by Segment:\")\n",
    "print(marketing_metrics.execute())"
   ]
  },
  {
   "cell_type": "markdown",
   "metadata": {},
   "source": [
    "## Step 2: Support Team Defines SupportCases Semantic Table"
   ]
  },
  {
   "cell_type": "code",
   "execution_count": 4,
   "metadata": {},
   "outputs": [
    {
     "name": "stdout",
     "output_type": "stream",
     "text": [
      "\n",
      "Support Metrics by Priority:\n",
      "  priority  case_count\n",
      "0      Low           6\n",
      "1   Medium           8\n",
      "2     High          11\n"
     ]
    }
   ],
   "source": [
    "# Support team defines their semantic table\n",
    "support_st = (\n",
    "    to_semantic_table(support_cases_table, name=\"support_cases\")\n",
    "    .with_dimensions(\n",
    "        case_id=lambda t: t.case_id,\n",
    "        customer_id=lambda t: t.customer_id,\n",
    "        created_date=lambda t: t.created_date,\n",
    "        priority=lambda t: t.priority\n",
    "    )\n",
    "    .with_measures(\n",
    "        case_count=lambda t: t.case_id.count(),\n",
    "        high_priority_cases=lambda t: (t.priority == 'High').sum()\n",
    "    )\n",
    ")\n",
    "\n",
    "# Support team can query their metrics\n",
    "support_metrics = (\n",
    "    support_st\n",
    "    .group_by(\"priority\")\n",
    "    .aggregate(case_count=lambda t: t.case_count)\n",
    ")\n",
    "print(\"\\nSupport Metrics by Priority:\")\n",
    "print(support_metrics.execute())"
   ]
  },
  {
   "cell_type": "markdown",
   "metadata": {},
   "source": [
    "## Step 3: Join Tables and Create Cross-Team Semantic Table\n",
    "\n",
    "Now we combine both semantic tables and create a new semantic table with cross-team metrics."
   ]
  },
  {
   "cell_type": "code",
   "execution_count": 5,
   "metadata": {},
   "outputs": [
    {
     "name": "stdout",
     "output_type": "stream",
     "text": [
      "Cross-team semantic table created with new measures!\n"
     ]
    }
   ],
   "source": [
    "# Join the semantic tables\n",
    "joined_st = marketing_st.join(support_st, on=lambda u, s: u.customer_id == s.customer_id)\n",
    "\n",
    "# Create a new semantic table with cross-team metrics\n",
    "# Note: We need to explicitly define which dimensions we want to include\n",
    "cross_team_st = (\n",
    "    to_semantic_table(joined_st, name=\"cross_team_metrics\")\n",
    "    .with_dimensions(\n",
    "        # Include key dimensions from both tables\n",
    "        users__segment=lambda t: t.segment,\n",
    "        users__customer_id=lambda t: t.customer_id,\n",
    "        support_cases__priority=lambda t: t.priority,\n",
    "        support_cases__created_date=lambda t: t.created_date\n",
    "    )\n",
    "    .with_measures(\n",
    "        # Include original measures from both tables\n",
    "        users__user_count=lambda t: t.users__user_count,\n",
    "        users__total_revenue=lambda t: t.users__total_revenue,\n",
    "        support_cases__case_count=lambda t: t.support_cases__case_count,\n",
    "        support_cases__high_priority_cases=lambda t: t.support_cases__high_priority_cases,\n",
    "        \n",
    "        # New cross-team measures that combine data from both teams\n",
    "        cases_per_user=lambda t: t.support_cases__case_count / t.users__user_count,\n",
    "        support_cost_ratio=lambda t: t.support_cases__case_count / t.users__total_revenue * 1000,  # cases per $1000 revenue\n",
    "        high_priority_rate=lambda t: t.support_cases__high_priority_cases / t.support_cases__case_count,\n",
    "        avg_case_value=lambda t: t.users__total_revenue / t.support_cases__case_count,  # revenue per case\n",
    "    )\n",
    ")\n",
    "\n",
    "print(\"Cross-team semantic table created with new measures!\")"
   ]
  },
  {
   "cell_type": "code",
   "execution_count": 6,
   "metadata": {},
   "outputs": [
    {
     "data": {
      "text/plain": [
       "{'cross_team_metrics__users__user_count': Measure(expr=<function <lambda> at 0x10bfe1da0>, description=None),\n",
       " 'cross_team_metrics__users__total_revenue': Measure(expr=<function <lambda> at 0x10bfe1d00>, description=None),\n",
       " 'cross_team_metrics__support_cases__case_count': Measure(expr=<function <lambda> at 0x10bfe1bc0>, description=None),\n",
       " 'cross_team_metrics__support_cases__high_priority_cases': Measure(expr=<function <lambda> at 0x10bfe19e0>, description=None),\n",
       " 'cross_team_metrics__cases_per_user': Measure(expr=<function <lambda> at 0x10bfe0b80>, description=None),\n",
       " 'cross_team_metrics__support_cost_ratio': Measure(expr=<function <lambda> at 0x10bfe1e40>, description=None),\n",
       " 'cross_team_metrics__high_priority_rate': Measure(expr=<function <lambda> at 0x10bfe1ee0>, description=None),\n",
       " 'cross_team_metrics__avg_case_value': Measure(expr=<function <lambda> at 0x10bfe1f80>, description=None)}"
      ]
     },
     "execution_count": 6,
     "metadata": {},
     "output_type": "execute_result"
    }
   ],
   "source": [
    "cross_team_st.dimensions,\n",
    "cross_team_st.measures"
   ]
  },
  {
   "cell_type": "markdown",
   "metadata": {},
   "source": [
    "## Step 4: Query Cross-Team Metrics\n",
    "\n",
    "The user or LLM can now query these combined metrics without worrying about the underlying data sources."
   ]
  },
  {
   "cell_type": "code",
   "execution_count": 11,
   "metadata": {},
   "outputs": [
    {
     "name": "stdout",
     "output_type": "stream",
     "text": [
      "Support Cases per Customer Segment:\n"
     ]
    },
    {
     "ename": "AttributeError",
     "evalue": "'Table' object has no attribute 'users__user_count'",
     "output_type": "error",
     "traceback": [
      "\u001b[31m---------------------------------------------------------------------------\u001b[39m",
      "\u001b[31mAttributeError\u001b[39m                            Traceback (most recent call last)",
      "\u001b[36mCell\u001b[39m\u001b[36m \u001b[39m\u001b[32mIn[11]\u001b[39m\u001b[32m, line 13\u001b[39m\n\u001b[32m      2\u001b[39m segment_support_metrics = (\n\u001b[32m      3\u001b[39m     cross_team_st\n\u001b[32m      4\u001b[39m     .group_by(\u001b[33m\"\u001b[39m\u001b[33msegment\u001b[39m\u001b[33m\"\u001b[39m)\n\u001b[32m   (...)\u001b[39m\u001b[32m      9\u001b[39m     )\n\u001b[32m     10\u001b[39m )\n\u001b[32m     12\u001b[39m \u001b[38;5;28mprint\u001b[39m(\u001b[33m\"\u001b[39m\u001b[33mSupport Cases per Customer Segment:\u001b[39m\u001b[33m\"\u001b[39m)\n\u001b[32m---> \u001b[39m\u001b[32m13\u001b[39m \u001b[38;5;28mprint\u001b[39m(\u001b[43msegment_support_metrics\u001b[49m\u001b[43m.\u001b[49m\u001b[43mexecute\u001b[49m\u001b[43m(\u001b[49m\u001b[43m)\u001b[49m)\n",
      "\u001b[36mFile \u001b[39m\u001b[32m~/Documents/wik/wikumeo/projects/boring-semantic-layer/src/boring_semantic_layer/semantic_api/api.py:96\u001b[39m, in \u001b[36mSemanticTableExpr.execute\u001b[39m\u001b[34m(self, *args, **kwargs)\u001b[39m\n\u001b[32m     95\u001b[39m \u001b[38;5;28;01mdef\u001b[39;00m\u001b[38;5;250m \u001b[39m\u001b[34mexecute\u001b[39m(\u001b[38;5;28mself\u001b[39m, *args: Any, **kwargs: Any) -> Any:\n\u001b[32m---> \u001b[39m\u001b[32m96\u001b[39m     \u001b[38;5;28;01mreturn\u001b[39;00m \u001b[38;5;28;43mself\u001b[39;49m\u001b[43m.\u001b[49m\u001b[43mto_ibis\u001b[49m\u001b[43m(\u001b[49m\u001b[43m)\u001b[49m.execute(*args, **kwargs)\n",
      "\u001b[36mFile \u001b[39m\u001b[32m~/Documents/wik/wikumeo/projects/boring-semantic-layer/src/boring_semantic_layer/semantic_api/api.py:93\u001b[39m, in \u001b[36mSemanticTableExpr.to_ibis\u001b[39m\u001b[34m(self, catalog)\u001b[39m\n\u001b[32m     92\u001b[39m \u001b[38;5;28;01mdef\u001b[39;00m\u001b[38;5;250m \u001b[39m\u001b[34mto_ibis\u001b[39m(\u001b[38;5;28mself\u001b[39m, catalog: \u001b[38;5;28mdict\u001b[39m[\u001b[38;5;28mstr\u001b[39m, Any] | \u001b[38;5;28;01mNone\u001b[39;00m = \u001b[38;5;28;01mNone\u001b[39;00m) -> IbisTable:\n\u001b[32m---> \u001b[39m\u001b[32m93\u001b[39m     \u001b[38;5;28;01mreturn\u001b[39;00m \u001b[43mconvert\u001b[49m\u001b[43m(\u001b[49m\u001b[38;5;28;43mself\u001b[39;49m\u001b[43m.\u001b[49m\u001b[43mto_expr\u001b[49m\u001b[43m(\u001b[49m\u001b[43m)\u001b[49m\u001b[43m,\u001b[49m\u001b[43m \u001b[49m\u001b[43mcatalog\u001b[49m\u001b[43m=\u001b[49m\u001b[43mcatalog\u001b[49m\u001b[43m \u001b[49m\u001b[38;5;129;43;01mor\u001b[39;49;00m\u001b[43m \u001b[49m\u001b[43m{\u001b[49m\u001b[43m}\u001b[49m\u001b[43m)\u001b[49m\n",
      "\u001b[36mFile \u001b[39m\u001b[32m/opt/homebrew/Cellar/python@3.12/3.12.9/Frameworks/Python.framework/Versions/3.12/lib/python3.12/functools.py:912\u001b[39m, in \u001b[36msingledispatch.<locals>.wrapper\u001b[39m\u001b[34m(*args, **kw)\u001b[39m\n\u001b[32m    908\u001b[39m \u001b[38;5;28;01mif\u001b[39;00m \u001b[38;5;129;01mnot\u001b[39;00m args:\n\u001b[32m    909\u001b[39m     \u001b[38;5;28;01mraise\u001b[39;00m \u001b[38;5;167;01mTypeError\u001b[39;00m(\u001b[33mf\u001b[39m\u001b[33m'\u001b[39m\u001b[38;5;132;01m{\u001b[39;00mfuncname\u001b[38;5;132;01m}\u001b[39;00m\u001b[33m requires at least \u001b[39m\u001b[33m'\u001b[39m\n\u001b[32m    910\u001b[39m                     \u001b[33m'\u001b[39m\u001b[33m1 positional argument\u001b[39m\u001b[33m'\u001b[39m)\n\u001b[32m--> \u001b[39m\u001b[32m912\u001b[39m \u001b[38;5;28;01mreturn\u001b[39;00m \u001b[43mdispatch\u001b[49m\u001b[43m(\u001b[49m\u001b[43margs\u001b[49m\u001b[43m[\u001b[49m\u001b[32;43m0\u001b[39;49m\u001b[43m]\u001b[49m\u001b[43m.\u001b[49m\u001b[34;43m__class__\u001b[39;49m\u001b[43m)\u001b[49m\u001b[43m(\u001b[49m\u001b[43m*\u001b[49m\u001b[43margs\u001b[49m\u001b[43m,\u001b[49m\u001b[43m \u001b[49m\u001b[43m*\u001b[49m\u001b[43m*\u001b[49m\u001b[43mkw\u001b[49m\u001b[43m)\u001b[49m\n",
      "\u001b[36mFile \u001b[39m\u001b[32m~/Documents/wik/wikumeo/projects/boring-semantic-layer/src/boring_semantic_layer/semantic_api/lower.py:52\u001b[39m, in \u001b[36m_convert_ibis_table\u001b[39m\u001b[34m(expr, catalog, *args)\u001b[39m\n\u001b[32m     50\u001b[39m \u001b[38;5;129m@convert\u001b[39m.register(IbisTableExpr)\n\u001b[32m     51\u001b[39m \u001b[38;5;28;01mdef\u001b[39;00m\u001b[38;5;250m \u001b[39m\u001b[34m_convert_ibis_table\u001b[39m(expr, catalog, *args):\n\u001b[32m---> \u001b[39m\u001b[32m52\u001b[39m     \u001b[38;5;28;01mreturn\u001b[39;00m \u001b[43mconvert\u001b[49m\u001b[43m(\u001b[49m\u001b[43mexpr\u001b[49m\u001b[43m.\u001b[49m\u001b[43mop\u001b[49m\u001b[43m(\u001b[49m\u001b[43m)\u001b[49m\u001b[43m,\u001b[49m\u001b[43m \u001b[49m\u001b[43mcatalog\u001b[49m\u001b[43m=\u001b[49m\u001b[43mcatalog\u001b[49m\u001b[43m)\u001b[49m\n",
      "\u001b[36mFile \u001b[39m\u001b[32m/opt/homebrew/Cellar/python@3.12/3.12.9/Frameworks/Python.framework/Versions/3.12/lib/python3.12/functools.py:912\u001b[39m, in \u001b[36msingledispatch.<locals>.wrapper\u001b[39m\u001b[34m(*args, **kw)\u001b[39m\n\u001b[32m    908\u001b[39m \u001b[38;5;28;01mif\u001b[39;00m \u001b[38;5;129;01mnot\u001b[39;00m args:\n\u001b[32m    909\u001b[39m     \u001b[38;5;28;01mraise\u001b[39;00m \u001b[38;5;167;01mTypeError\u001b[39;00m(\u001b[33mf\u001b[39m\u001b[33m'\u001b[39m\u001b[38;5;132;01m{\u001b[39;00mfuncname\u001b[38;5;132;01m}\u001b[39;00m\u001b[33m requires at least \u001b[39m\u001b[33m'\u001b[39m\n\u001b[32m    910\u001b[39m                     \u001b[33m'\u001b[39m\u001b[33m1 positional argument\u001b[39m\u001b[33m'\u001b[39m)\n\u001b[32m--> \u001b[39m\u001b[32m912\u001b[39m \u001b[38;5;28;01mreturn\u001b[39;00m \u001b[43mdispatch\u001b[49m\u001b[43m(\u001b[49m\u001b[43margs\u001b[49m\u001b[43m[\u001b[49m\u001b[32;43m0\u001b[39;49m\u001b[43m]\u001b[49m\u001b[43m.\u001b[49m\u001b[34;43m__class__\u001b[39;49m\u001b[43m)\u001b[49m\u001b[43m(\u001b[49m\u001b[43m*\u001b[49m\u001b[43margs\u001b[49m\u001b[43m,\u001b[49m\u001b[43m \u001b[49m\u001b[43m*\u001b[49m\u001b[43m*\u001b[49m\u001b[43mkw\u001b[49m\u001b[43m)\u001b[49m\n",
      "\u001b[36mFile \u001b[39m\u001b[32m~/Documents/wik/wikumeo/projects/boring-semantic-layer/src/boring_semantic_layer/semantic_api/lower.py:196\u001b[39m, in \u001b[36m_lower_semantic_aggregate\u001b[39m\u001b[34m(node, catalog, *args)\u001b[39m\n\u001b[32m    193\u001b[39m         \u001b[38;5;28;01mreturn\u001b[39;00m \u001b[38;5;28mgetattr\u001b[39m(\u001b[38;5;28mself\u001b[39m._t, key)\n\u001b[32m    195\u001b[39m proxy = _AggResolver(tbl, merged_dimensions, merged_measures)\n\u001b[32m--> \u001b[39m\u001b[32m196\u001b[39m meas_exprs = [\u001b[43mfn\u001b[49m\u001b[43m(\u001b[49m\u001b[43mproxy\u001b[49m\u001b[43m)\u001b[49m.name(name) \u001b[38;5;28;01mfor\u001b[39;00m name, fn \u001b[38;5;129;01min\u001b[39;00m node.aggs.items()]\n\u001b[32m    198\u001b[39m \u001b[38;5;28;01mif\u001b[39;00m group_exprs:\n\u001b[32m    199\u001b[39m     \u001b[38;5;28;01mreturn\u001b[39;00m tbl.group_by(group_exprs).aggregate(meas_exprs)\n",
      "\u001b[36mCell\u001b[39m\u001b[36m \u001b[39m\u001b[32mIn[11]\u001b[39m\u001b[32m, line 6\u001b[39m, in \u001b[36m<lambda>\u001b[39m\u001b[34m(t)\u001b[39m\n\u001b[32m      1\u001b[39m \u001b[38;5;66;03m# Query 1: Cases per user by customer segment using the new measure\u001b[39;00m\n\u001b[32m      2\u001b[39m segment_support_metrics = (\n\u001b[32m      3\u001b[39m     cross_team_st\n\u001b[32m      4\u001b[39m     .group_by(\u001b[33m\"\u001b[39m\u001b[33msegment\u001b[39m\u001b[33m\"\u001b[39m)\n\u001b[32m      5\u001b[39m     .aggregate(\n\u001b[32m----> \u001b[39m\u001b[32m6\u001b[39m         user_count=\u001b[38;5;28;01mlambda\u001b[39;00m t: \u001b[43mt\u001b[49m\u001b[43m.\u001b[49m\u001b[43musers__user_count\u001b[49m,\n\u001b[32m      7\u001b[39m         case_count=\u001b[38;5;28;01mlambda\u001b[39;00m t: t.support_cases__case_count,\n\u001b[32m      8\u001b[39m         cases_per_user=\u001b[38;5;28;01mlambda\u001b[39;00m t: t.cases_per_user  \u001b[38;5;66;03m# Using the new predefined measure\u001b[39;00m\n\u001b[32m      9\u001b[39m     )\n\u001b[32m     10\u001b[39m )\n\u001b[32m     12\u001b[39m \u001b[38;5;28mprint\u001b[39m(\u001b[33m\"\u001b[39m\u001b[33mSupport Cases per Customer Segment:\u001b[39m\u001b[33m\"\u001b[39m)\n\u001b[32m     13\u001b[39m \u001b[38;5;28mprint\u001b[39m(segment_support_metrics.execute())\n",
      "\u001b[36mFile \u001b[39m\u001b[32m~/Documents/wik/wikumeo/projects/boring-semantic-layer/src/boring_semantic_layer/semantic_api/lower.py:179\u001b[39m, in \u001b[36m_lower_semantic_aggregate.<locals>._AggResolver.__getattr__\u001b[39m\u001b[34m(self, key)\u001b[39m\n\u001b[32m    177\u001b[39m     \u001b[38;5;28;01mreturn\u001b[39;00m \u001b[38;5;28mself\u001b[39m._dims[key](\u001b[38;5;28mself\u001b[39m._t)\n\u001b[32m    178\u001b[39m \u001b[38;5;28;01mif\u001b[39;00m key \u001b[38;5;129;01min\u001b[39;00m \u001b[38;5;28mself\u001b[39m._meas:\n\u001b[32m--> \u001b[39m\u001b[32m179\u001b[39m     \u001b[38;5;28;01mreturn\u001b[39;00m \u001b[38;5;28;43mself\u001b[39;49m\u001b[43m.\u001b[49m\u001b[43m_meas\u001b[49m\u001b[43m[\u001b[49m\u001b[43mkey\u001b[49m\u001b[43m]\u001b[49m\u001b[43m(\u001b[49m\u001b[38;5;28;43mself\u001b[39;49m\u001b[43m.\u001b[49m\u001b[43m_t\u001b[49m\u001b[43m)\u001b[49m\n\u001b[32m    181\u001b[39m \u001b[38;5;66;03m# 2. Try prefixed versions (table__name format)\u001b[39;00m\n\u001b[32m    182\u001b[39m \u001b[38;5;28;01mfor\u001b[39;00m dim_name, dim_func \u001b[38;5;129;01min\u001b[39;00m \u001b[38;5;28mself\u001b[39m._dims.items():\n",
      "\u001b[36mFile \u001b[39m\u001b[32m~/Documents/wik/wikumeo/projects/boring-semantic-layer/src/boring_semantic_layer/semantic_api/ops.py:38\u001b[39m, in \u001b[36mMeasure.__call__\u001b[39m\u001b[34m(self, table)\u001b[39m\n\u001b[32m     37\u001b[39m \u001b[38;5;28;01mdef\u001b[39;00m\u001b[38;5;250m \u001b[39m\u001b[34m__call__\u001b[39m(\u001b[38;5;28mself\u001b[39m, table: Any) -> Any:\n\u001b[32m---> \u001b[39m\u001b[32m38\u001b[39m     \u001b[38;5;28;01mreturn\u001b[39;00m \u001b[38;5;28;43mself\u001b[39;49m\u001b[43m.\u001b[49m\u001b[43mexpr\u001b[49m\u001b[43m(\u001b[49m\u001b[43mtable\u001b[49m\u001b[43m)\u001b[49m\n",
      "\u001b[36mCell\u001b[39m\u001b[36m \u001b[39m\u001b[32mIn[5]\u001b[39m\u001b[32m, line 17\u001b[39m, in \u001b[36m<lambda>\u001b[39m\u001b[34m(t)\u001b[39m\n\u001b[32m      2\u001b[39m joined_st = marketing_st.join(support_st, on=\u001b[38;5;28;01mlambda\u001b[39;00m u, s: u.customer_id == s.customer_id)\n\u001b[32m      4\u001b[39m \u001b[38;5;66;03m# Create a new semantic table with cross-team metrics\u001b[39;00m\n\u001b[32m      5\u001b[39m \u001b[38;5;66;03m# Note: We need to explicitly define which dimensions we want to include\u001b[39;00m\n\u001b[32m      6\u001b[39m cross_team_st = (\n\u001b[32m      7\u001b[39m     to_semantic_table(joined_st, name=\u001b[33m\"\u001b[39m\u001b[33mcross_team_metrics\u001b[39m\u001b[33m\"\u001b[39m)\n\u001b[32m      8\u001b[39m     .with_dimensions(\n\u001b[32m      9\u001b[39m         \u001b[38;5;66;03m# Include key dimensions from both tables\u001b[39;00m\n\u001b[32m     10\u001b[39m         users__segment=\u001b[38;5;28;01mlambda\u001b[39;00m t: t.segment,\n\u001b[32m     11\u001b[39m         users__customer_id=\u001b[38;5;28;01mlambda\u001b[39;00m t: t.customer_id,\n\u001b[32m     12\u001b[39m         support_cases__priority=\u001b[38;5;28;01mlambda\u001b[39;00m t: t.priority,\n\u001b[32m     13\u001b[39m         support_cases__created_date=\u001b[38;5;28;01mlambda\u001b[39;00m t: t.created_date\n\u001b[32m     14\u001b[39m     )\n\u001b[32m     15\u001b[39m     .with_measures(\n\u001b[32m     16\u001b[39m         \u001b[38;5;66;03m# Include original measures from both tables\u001b[39;00m\n\u001b[32m---> \u001b[39m\u001b[32m17\u001b[39m         users__user_count=\u001b[38;5;28;01mlambda\u001b[39;00m t: \u001b[43mt\u001b[49m\u001b[43m.\u001b[49m\u001b[43musers__user_count\u001b[49m,\n\u001b[32m     18\u001b[39m         users__total_revenue=\u001b[38;5;28;01mlambda\u001b[39;00m t: t.users__total_revenue,\n\u001b[32m     19\u001b[39m         support_cases__case_count=\u001b[38;5;28;01mlambda\u001b[39;00m t: t.support_cases__case_count,\n\u001b[32m     20\u001b[39m         support_cases__high_priority_cases=\u001b[38;5;28;01mlambda\u001b[39;00m t: t.support_cases__high_priority_cases,\n\u001b[32m     21\u001b[39m \n\u001b[32m     22\u001b[39m         \u001b[38;5;66;03m# New cross-team measures that combine data from both teams\u001b[39;00m\n\u001b[32m     23\u001b[39m         cases_per_user=\u001b[38;5;28;01mlambda\u001b[39;00m t: t.support_cases__case_count / t.users__user_count,\n\u001b[32m     24\u001b[39m         support_cost_ratio=\u001b[38;5;28;01mlambda\u001b[39;00m t: t.support_cases__case_count / t.users__total_revenue * \u001b[32m1000\u001b[39m,  \u001b[38;5;66;03m# cases per $1000 revenue\u001b[39;00m\n\u001b[32m     25\u001b[39m         high_priority_rate=\u001b[38;5;28;01mlambda\u001b[39;00m t: t.support_cases__high_priority_cases / t.support_cases__case_count,\n\u001b[32m     26\u001b[39m         avg_case_value=\u001b[38;5;28;01mlambda\u001b[39;00m t: t.users__total_revenue / t.support_cases__case_count,  \u001b[38;5;66;03m# revenue per case\u001b[39;00m\n\u001b[32m     27\u001b[39m     )\n\u001b[32m     28\u001b[39m )\n\u001b[32m     30\u001b[39m \u001b[38;5;28mprint\u001b[39m(\u001b[33m\"\u001b[39m\u001b[33mCross-team semantic table created with new measures!\u001b[39m\u001b[33m\"\u001b[39m)\n",
      "\u001b[36mFile \u001b[39m\u001b[32m~/Documents/wik/wikumeo/projects/boring-semantic-layer/.venv/lib/python3.12/site-packages/ibis/expr/types/relations.py:785\u001b[39m, in \u001b[36mTable.__getattr__\u001b[39m\u001b[34m(self, key)\u001b[39m\n\u001b[32m    780\u001b[39m     hint = common_typos[key]\n\u001b[32m    781\u001b[39m     \u001b[38;5;28;01mraise\u001b[39;00m \u001b[38;5;167;01mAttributeError\u001b[39;00m(\n\u001b[32m    782\u001b[39m         \u001b[33mf\u001b[39m\u001b[33m\"\u001b[39m\u001b[38;5;132;01m{\u001b[39;00m\u001b[38;5;28mtype\u001b[39m(\u001b[38;5;28mself\u001b[39m).\u001b[34m__name__\u001b[39m\u001b[38;5;132;01m}\u001b[39;00m\u001b[33m object has no attribute \u001b[39m\u001b[38;5;132;01m{\u001b[39;00mkey\u001b[38;5;132;01m!r}\u001b[39;00m\u001b[33m, did you mean \u001b[39m\u001b[38;5;132;01m{\u001b[39;00mhint\u001b[38;5;132;01m!r}\u001b[39;00m\u001b[33m\"\u001b[39m\n\u001b[32m    783\u001b[39m     )\n\u001b[32m--> \u001b[39m\u001b[32m785\u001b[39m \u001b[38;5;28;01mraise\u001b[39;00m \u001b[38;5;167;01mAttributeError\u001b[39;00m(\u001b[33mf\u001b[39m\u001b[33m\"\u001b[39m\u001b[33m'\u001b[39m\u001b[33mTable\u001b[39m\u001b[33m'\u001b[39m\u001b[33m object has no attribute \u001b[39m\u001b[38;5;132;01m{\u001b[39;00mkey\u001b[38;5;132;01m!r}\u001b[39;00m\u001b[33m\"\u001b[39m)\n",
      "\u001b[31mAttributeError\u001b[39m: 'Table' object has no attribute 'users__user_count'"
     ]
    }
   ],
   "source": [
    "# Query 1: Cases per user by customer segment using the new measure\n",
    "segment_support_metrics = (\n",
    "    cross_team_st\n",
    "    .group_by(\"segment\")\n",
    "    .aggregate(\n",
    "        user_count=lambda t: t.users__user_count,\n",
    "        case_count=lambda t: t.support_cases__case_count,\n",
    "        cases_per_user=lambda t: t.cases_per_user  # Using the new predefined measure\n",
    "    )\n",
    ")\n",
    "\n",
    "print(\"Support Cases per Customer Segment:\")\n",
    "print(segment_support_metrics.execute())"
   ]
  },
  {
   "cell_type": "code",
   "execution_count": 12,
   "metadata": {},
   "outputs": [
    {
     "name": "stdout",
     "output_type": "stream",
     "text": [
      "\n",
      "Support Efficiency by Customer Segment:\n"
     ]
    },
    {
     "ename": "AttributeError",
     "evalue": "'Table' object has no attribute 'users__total_revenue'",
     "output_type": "error",
     "traceback": [
      "\u001b[31m---------------------------------------------------------------------------\u001b[39m",
      "\u001b[31mAttributeError\u001b[39m                            Traceback (most recent call last)",
      "\u001b[36mCell\u001b[39m\u001b[36m \u001b[39m\u001b[32mIn[12]\u001b[39m\u001b[32m, line 15\u001b[39m\n\u001b[32m      2\u001b[39m efficiency_metrics = (\n\u001b[32m      3\u001b[39m     cross_team_st\n\u001b[32m      4\u001b[39m     .group_by(\u001b[33m\"\u001b[39m\u001b[33musers__segment\u001b[39m\u001b[33m\"\u001b[39m)\n\u001b[32m   (...)\u001b[39m\u001b[32m     11\u001b[39m     )\n\u001b[32m     12\u001b[39m )\n\u001b[32m     14\u001b[39m \u001b[38;5;28mprint\u001b[39m(\u001b[33m\"\u001b[39m\u001b[38;5;130;01m\\n\u001b[39;00m\u001b[33mSupport Efficiency by Customer Segment:\u001b[39m\u001b[33m\"\u001b[39m)\n\u001b[32m---> \u001b[39m\u001b[32m15\u001b[39m \u001b[38;5;28mprint\u001b[39m(\u001b[43mefficiency_metrics\u001b[49m\u001b[43m.\u001b[49m\u001b[43mexecute\u001b[49m\u001b[43m(\u001b[49m\u001b[43m)\u001b[49m)\n",
      "\u001b[36mFile \u001b[39m\u001b[32m~/Documents/wik/wikumeo/projects/boring-semantic-layer/src/boring_semantic_layer/semantic_api/api.py:96\u001b[39m, in \u001b[36mSemanticTableExpr.execute\u001b[39m\u001b[34m(self, *args, **kwargs)\u001b[39m\n\u001b[32m     95\u001b[39m \u001b[38;5;28;01mdef\u001b[39;00m\u001b[38;5;250m \u001b[39m\u001b[34mexecute\u001b[39m(\u001b[38;5;28mself\u001b[39m, *args: Any, **kwargs: Any) -> Any:\n\u001b[32m---> \u001b[39m\u001b[32m96\u001b[39m     \u001b[38;5;28;01mreturn\u001b[39;00m \u001b[38;5;28;43mself\u001b[39;49m\u001b[43m.\u001b[49m\u001b[43mto_ibis\u001b[49m\u001b[43m(\u001b[49m\u001b[43m)\u001b[49m.execute(*args, **kwargs)\n",
      "\u001b[36mFile \u001b[39m\u001b[32m~/Documents/wik/wikumeo/projects/boring-semantic-layer/src/boring_semantic_layer/semantic_api/api.py:93\u001b[39m, in \u001b[36mSemanticTableExpr.to_ibis\u001b[39m\u001b[34m(self, catalog)\u001b[39m\n\u001b[32m     92\u001b[39m \u001b[38;5;28;01mdef\u001b[39;00m\u001b[38;5;250m \u001b[39m\u001b[34mto_ibis\u001b[39m(\u001b[38;5;28mself\u001b[39m, catalog: \u001b[38;5;28mdict\u001b[39m[\u001b[38;5;28mstr\u001b[39m, Any] | \u001b[38;5;28;01mNone\u001b[39;00m = \u001b[38;5;28;01mNone\u001b[39;00m) -> IbisTable:\n\u001b[32m---> \u001b[39m\u001b[32m93\u001b[39m     \u001b[38;5;28;01mreturn\u001b[39;00m \u001b[43mconvert\u001b[49m\u001b[43m(\u001b[49m\u001b[38;5;28;43mself\u001b[39;49m\u001b[43m.\u001b[49m\u001b[43mto_expr\u001b[49m\u001b[43m(\u001b[49m\u001b[43m)\u001b[49m\u001b[43m,\u001b[49m\u001b[43m \u001b[49m\u001b[43mcatalog\u001b[49m\u001b[43m=\u001b[49m\u001b[43mcatalog\u001b[49m\u001b[43m \u001b[49m\u001b[38;5;129;43;01mor\u001b[39;49;00m\u001b[43m \u001b[49m\u001b[43m{\u001b[49m\u001b[43m}\u001b[49m\u001b[43m)\u001b[49m\n",
      "\u001b[36mFile \u001b[39m\u001b[32m/opt/homebrew/Cellar/python@3.12/3.12.9/Frameworks/Python.framework/Versions/3.12/lib/python3.12/functools.py:912\u001b[39m, in \u001b[36msingledispatch.<locals>.wrapper\u001b[39m\u001b[34m(*args, **kw)\u001b[39m\n\u001b[32m    908\u001b[39m \u001b[38;5;28;01mif\u001b[39;00m \u001b[38;5;129;01mnot\u001b[39;00m args:\n\u001b[32m    909\u001b[39m     \u001b[38;5;28;01mraise\u001b[39;00m \u001b[38;5;167;01mTypeError\u001b[39;00m(\u001b[33mf\u001b[39m\u001b[33m'\u001b[39m\u001b[38;5;132;01m{\u001b[39;00mfuncname\u001b[38;5;132;01m}\u001b[39;00m\u001b[33m requires at least \u001b[39m\u001b[33m'\u001b[39m\n\u001b[32m    910\u001b[39m                     \u001b[33m'\u001b[39m\u001b[33m1 positional argument\u001b[39m\u001b[33m'\u001b[39m)\n\u001b[32m--> \u001b[39m\u001b[32m912\u001b[39m \u001b[38;5;28;01mreturn\u001b[39;00m \u001b[43mdispatch\u001b[49m\u001b[43m(\u001b[49m\u001b[43margs\u001b[49m\u001b[43m[\u001b[49m\u001b[32;43m0\u001b[39;49m\u001b[43m]\u001b[49m\u001b[43m.\u001b[49m\u001b[34;43m__class__\u001b[39;49m\u001b[43m)\u001b[49m\u001b[43m(\u001b[49m\u001b[43m*\u001b[49m\u001b[43margs\u001b[49m\u001b[43m,\u001b[49m\u001b[43m \u001b[49m\u001b[43m*\u001b[49m\u001b[43m*\u001b[49m\u001b[43mkw\u001b[49m\u001b[43m)\u001b[49m\n",
      "\u001b[36mFile \u001b[39m\u001b[32m~/Documents/wik/wikumeo/projects/boring-semantic-layer/src/boring_semantic_layer/semantic_api/lower.py:52\u001b[39m, in \u001b[36m_convert_ibis_table\u001b[39m\u001b[34m(expr, catalog, *args)\u001b[39m\n\u001b[32m     50\u001b[39m \u001b[38;5;129m@convert\u001b[39m.register(IbisTableExpr)\n\u001b[32m     51\u001b[39m \u001b[38;5;28;01mdef\u001b[39;00m\u001b[38;5;250m \u001b[39m\u001b[34m_convert_ibis_table\u001b[39m(expr, catalog, *args):\n\u001b[32m---> \u001b[39m\u001b[32m52\u001b[39m     \u001b[38;5;28;01mreturn\u001b[39;00m \u001b[43mconvert\u001b[49m\u001b[43m(\u001b[49m\u001b[43mexpr\u001b[49m\u001b[43m.\u001b[49m\u001b[43mop\u001b[49m\u001b[43m(\u001b[49m\u001b[43m)\u001b[49m\u001b[43m,\u001b[49m\u001b[43m \u001b[49m\u001b[43mcatalog\u001b[49m\u001b[43m=\u001b[49m\u001b[43mcatalog\u001b[49m\u001b[43m)\u001b[49m\n",
      "\u001b[36mFile \u001b[39m\u001b[32m/opt/homebrew/Cellar/python@3.12/3.12.9/Frameworks/Python.framework/Versions/3.12/lib/python3.12/functools.py:912\u001b[39m, in \u001b[36msingledispatch.<locals>.wrapper\u001b[39m\u001b[34m(*args, **kw)\u001b[39m\n\u001b[32m    908\u001b[39m \u001b[38;5;28;01mif\u001b[39;00m \u001b[38;5;129;01mnot\u001b[39;00m args:\n\u001b[32m    909\u001b[39m     \u001b[38;5;28;01mraise\u001b[39;00m \u001b[38;5;167;01mTypeError\u001b[39;00m(\u001b[33mf\u001b[39m\u001b[33m'\u001b[39m\u001b[38;5;132;01m{\u001b[39;00mfuncname\u001b[38;5;132;01m}\u001b[39;00m\u001b[33m requires at least \u001b[39m\u001b[33m'\u001b[39m\n\u001b[32m    910\u001b[39m                     \u001b[33m'\u001b[39m\u001b[33m1 positional argument\u001b[39m\u001b[33m'\u001b[39m)\n\u001b[32m--> \u001b[39m\u001b[32m912\u001b[39m \u001b[38;5;28;01mreturn\u001b[39;00m \u001b[43mdispatch\u001b[49m\u001b[43m(\u001b[49m\u001b[43margs\u001b[49m\u001b[43m[\u001b[49m\u001b[32;43m0\u001b[39;49m\u001b[43m]\u001b[49m\u001b[43m.\u001b[49m\u001b[34;43m__class__\u001b[39;49m\u001b[43m)\u001b[49m\u001b[43m(\u001b[49m\u001b[43m*\u001b[49m\u001b[43margs\u001b[49m\u001b[43m,\u001b[49m\u001b[43m \u001b[49m\u001b[43m*\u001b[49m\u001b[43m*\u001b[49m\u001b[43mkw\u001b[49m\u001b[43m)\u001b[49m\n",
      "\u001b[36mFile \u001b[39m\u001b[32m~/Documents/wik/wikumeo/projects/boring-semantic-layer/src/boring_semantic_layer/semantic_api/lower.py:196\u001b[39m, in \u001b[36m_lower_semantic_aggregate\u001b[39m\u001b[34m(node, catalog, *args)\u001b[39m\n\u001b[32m    193\u001b[39m         \u001b[38;5;28;01mreturn\u001b[39;00m \u001b[38;5;28mgetattr\u001b[39m(\u001b[38;5;28mself\u001b[39m._t, key)\n\u001b[32m    195\u001b[39m proxy = _AggResolver(tbl, merged_dimensions, merged_measures)\n\u001b[32m--> \u001b[39m\u001b[32m196\u001b[39m meas_exprs = [\u001b[43mfn\u001b[49m\u001b[43m(\u001b[49m\u001b[43mproxy\u001b[49m\u001b[43m)\u001b[49m.name(name) \u001b[38;5;28;01mfor\u001b[39;00m name, fn \u001b[38;5;129;01min\u001b[39;00m node.aggs.items()]\n\u001b[32m    198\u001b[39m \u001b[38;5;28;01mif\u001b[39;00m group_exprs:\n\u001b[32m    199\u001b[39m     \u001b[38;5;28;01mreturn\u001b[39;00m tbl.group_by(group_exprs).aggregate(meas_exprs)\n",
      "\u001b[36mCell\u001b[39m\u001b[36m \u001b[39m\u001b[32mIn[12]\u001b[39m\u001b[32m, line 6\u001b[39m, in \u001b[36m<lambda>\u001b[39m\u001b[34m(t)\u001b[39m\n\u001b[32m      1\u001b[39m \u001b[38;5;66;03m# Query 2: Support efficiency metrics using the new cross-team measures\u001b[39;00m\n\u001b[32m      2\u001b[39m efficiency_metrics = (\n\u001b[32m      3\u001b[39m     cross_team_st\n\u001b[32m      4\u001b[39m     .group_by(\u001b[33m\"\u001b[39m\u001b[33musers__segment\u001b[39m\u001b[33m\"\u001b[39m)\n\u001b[32m      5\u001b[39m     .aggregate(\n\u001b[32m----> \u001b[39m\u001b[32m6\u001b[39m         total_revenue=\u001b[38;5;28;01mlambda\u001b[39;00m t: \u001b[43mt\u001b[49m\u001b[43m.\u001b[49m\u001b[43musers__total_revenue\u001b[49m,\n\u001b[32m      7\u001b[39m         case_count=\u001b[38;5;28;01mlambda\u001b[39;00m t: t.support_cases__case_count,\n\u001b[32m      8\u001b[39m         support_cost_ratio=\u001b[38;5;28;01mlambda\u001b[39;00m t: t.support_cost_ratio,  \u001b[38;5;66;03m# Using new measure\u001b[39;00m\n\u001b[32m      9\u001b[39m         high_priority_rate=\u001b[38;5;28;01mlambda\u001b[39;00m t: t.high_priority_rate,  \u001b[38;5;66;03m# Using new measure\u001b[39;00m\n\u001b[32m     10\u001b[39m         avg_case_value=\u001b[38;5;28;01mlambda\u001b[39;00m t: t.avg_case_value  \u001b[38;5;66;03m# Using new measure\u001b[39;00m\n\u001b[32m     11\u001b[39m     )\n\u001b[32m     12\u001b[39m )\n\u001b[32m     14\u001b[39m \u001b[38;5;28mprint\u001b[39m(\u001b[33m\"\u001b[39m\u001b[38;5;130;01m\\n\u001b[39;00m\u001b[33mSupport Efficiency by Customer Segment:\u001b[39m\u001b[33m\"\u001b[39m)\n\u001b[32m     15\u001b[39m \u001b[38;5;28mprint\u001b[39m(efficiency_metrics.execute())\n",
      "\u001b[36mFile \u001b[39m\u001b[32m~/Documents/wik/wikumeo/projects/boring-semantic-layer/src/boring_semantic_layer/semantic_api/lower.py:179\u001b[39m, in \u001b[36m_lower_semantic_aggregate.<locals>._AggResolver.__getattr__\u001b[39m\u001b[34m(self, key)\u001b[39m\n\u001b[32m    177\u001b[39m     \u001b[38;5;28;01mreturn\u001b[39;00m \u001b[38;5;28mself\u001b[39m._dims[key](\u001b[38;5;28mself\u001b[39m._t)\n\u001b[32m    178\u001b[39m \u001b[38;5;28;01mif\u001b[39;00m key \u001b[38;5;129;01min\u001b[39;00m \u001b[38;5;28mself\u001b[39m._meas:\n\u001b[32m--> \u001b[39m\u001b[32m179\u001b[39m     \u001b[38;5;28;01mreturn\u001b[39;00m \u001b[38;5;28;43mself\u001b[39;49m\u001b[43m.\u001b[49m\u001b[43m_meas\u001b[49m\u001b[43m[\u001b[49m\u001b[43mkey\u001b[49m\u001b[43m]\u001b[49m\u001b[43m(\u001b[49m\u001b[38;5;28;43mself\u001b[39;49m\u001b[43m.\u001b[49m\u001b[43m_t\u001b[49m\u001b[43m)\u001b[49m\n\u001b[32m    181\u001b[39m \u001b[38;5;66;03m# 2. Try prefixed versions (table__name format)\u001b[39;00m\n\u001b[32m    182\u001b[39m \u001b[38;5;28;01mfor\u001b[39;00m dim_name, dim_func \u001b[38;5;129;01min\u001b[39;00m \u001b[38;5;28mself\u001b[39m._dims.items():\n",
      "\u001b[36mFile \u001b[39m\u001b[32m~/Documents/wik/wikumeo/projects/boring-semantic-layer/src/boring_semantic_layer/semantic_api/ops.py:38\u001b[39m, in \u001b[36mMeasure.__call__\u001b[39m\u001b[34m(self, table)\u001b[39m\n\u001b[32m     37\u001b[39m \u001b[38;5;28;01mdef\u001b[39;00m\u001b[38;5;250m \u001b[39m\u001b[34m__call__\u001b[39m(\u001b[38;5;28mself\u001b[39m, table: Any) -> Any:\n\u001b[32m---> \u001b[39m\u001b[32m38\u001b[39m     \u001b[38;5;28;01mreturn\u001b[39;00m \u001b[38;5;28;43mself\u001b[39;49m\u001b[43m.\u001b[49m\u001b[43mexpr\u001b[49m\u001b[43m(\u001b[49m\u001b[43mtable\u001b[49m\u001b[43m)\u001b[49m\n",
      "\u001b[36mCell\u001b[39m\u001b[36m \u001b[39m\u001b[32mIn[5]\u001b[39m\u001b[32m, line 18\u001b[39m, in \u001b[36m<lambda>\u001b[39m\u001b[34m(t)\u001b[39m\n\u001b[32m      2\u001b[39m joined_st = marketing_st.join(support_st, on=\u001b[38;5;28;01mlambda\u001b[39;00m u, s: u.customer_id == s.customer_id)\n\u001b[32m      4\u001b[39m \u001b[38;5;66;03m# Create a new semantic table with cross-team metrics\u001b[39;00m\n\u001b[32m      5\u001b[39m \u001b[38;5;66;03m# Note: We need to explicitly define which dimensions we want to include\u001b[39;00m\n\u001b[32m      6\u001b[39m cross_team_st = (\n\u001b[32m      7\u001b[39m     to_semantic_table(joined_st, name=\u001b[33m\"\u001b[39m\u001b[33mcross_team_metrics\u001b[39m\u001b[33m\"\u001b[39m)\n\u001b[32m      8\u001b[39m     .with_dimensions(\n\u001b[32m      9\u001b[39m         \u001b[38;5;66;03m# Include key dimensions from both tables\u001b[39;00m\n\u001b[32m     10\u001b[39m         users__segment=\u001b[38;5;28;01mlambda\u001b[39;00m t: t.segment,\n\u001b[32m     11\u001b[39m         users__customer_id=\u001b[38;5;28;01mlambda\u001b[39;00m t: t.customer_id,\n\u001b[32m     12\u001b[39m         support_cases__priority=\u001b[38;5;28;01mlambda\u001b[39;00m t: t.priority,\n\u001b[32m     13\u001b[39m         support_cases__created_date=\u001b[38;5;28;01mlambda\u001b[39;00m t: t.created_date\n\u001b[32m     14\u001b[39m     )\n\u001b[32m     15\u001b[39m     .with_measures(\n\u001b[32m     16\u001b[39m         \u001b[38;5;66;03m# Include original measures from both tables\u001b[39;00m\n\u001b[32m     17\u001b[39m         users__user_count=\u001b[38;5;28;01mlambda\u001b[39;00m t: t.users__user_count,\n\u001b[32m---> \u001b[39m\u001b[32m18\u001b[39m         users__total_revenue=\u001b[38;5;28;01mlambda\u001b[39;00m t: \u001b[43mt\u001b[49m\u001b[43m.\u001b[49m\u001b[43musers__total_revenue\u001b[49m,\n\u001b[32m     19\u001b[39m         support_cases__case_count=\u001b[38;5;28;01mlambda\u001b[39;00m t: t.support_cases__case_count,\n\u001b[32m     20\u001b[39m         support_cases__high_priority_cases=\u001b[38;5;28;01mlambda\u001b[39;00m t: t.support_cases__high_priority_cases,\n\u001b[32m     21\u001b[39m \n\u001b[32m     22\u001b[39m         \u001b[38;5;66;03m# New cross-team measures that combine data from both teams\u001b[39;00m\n\u001b[32m     23\u001b[39m         cases_per_user=\u001b[38;5;28;01mlambda\u001b[39;00m t: t.support_cases__case_count / t.users__user_count,\n\u001b[32m     24\u001b[39m         support_cost_ratio=\u001b[38;5;28;01mlambda\u001b[39;00m t: t.support_cases__case_count / t.users__total_revenue * \u001b[32m1000\u001b[39m,  \u001b[38;5;66;03m# cases per $1000 revenue\u001b[39;00m\n\u001b[32m     25\u001b[39m         high_priority_rate=\u001b[38;5;28;01mlambda\u001b[39;00m t: t.support_cases__high_priority_cases / t.support_cases__case_count,\n\u001b[32m     26\u001b[39m         avg_case_value=\u001b[38;5;28;01mlambda\u001b[39;00m t: t.users__total_revenue / t.support_cases__case_count,  \u001b[38;5;66;03m# revenue per case\u001b[39;00m\n\u001b[32m     27\u001b[39m     )\n\u001b[32m     28\u001b[39m )\n\u001b[32m     30\u001b[39m \u001b[38;5;28mprint\u001b[39m(\u001b[33m\"\u001b[39m\u001b[33mCross-team semantic table created with new measures!\u001b[39m\u001b[33m\"\u001b[39m)\n",
      "\u001b[36mFile \u001b[39m\u001b[32m~/Documents/wik/wikumeo/projects/boring-semantic-layer/.venv/lib/python3.12/site-packages/ibis/expr/types/relations.py:785\u001b[39m, in \u001b[36mTable.__getattr__\u001b[39m\u001b[34m(self, key)\u001b[39m\n\u001b[32m    780\u001b[39m     hint = common_typos[key]\n\u001b[32m    781\u001b[39m     \u001b[38;5;28;01mraise\u001b[39;00m \u001b[38;5;167;01mAttributeError\u001b[39;00m(\n\u001b[32m    782\u001b[39m         \u001b[33mf\u001b[39m\u001b[33m\"\u001b[39m\u001b[38;5;132;01m{\u001b[39;00m\u001b[38;5;28mtype\u001b[39m(\u001b[38;5;28mself\u001b[39m).\u001b[34m__name__\u001b[39m\u001b[38;5;132;01m}\u001b[39;00m\u001b[33m object has no attribute \u001b[39m\u001b[38;5;132;01m{\u001b[39;00mkey\u001b[38;5;132;01m!r}\u001b[39;00m\u001b[33m, did you mean \u001b[39m\u001b[38;5;132;01m{\u001b[39;00mhint\u001b[38;5;132;01m!r}\u001b[39;00m\u001b[33m\"\u001b[39m\n\u001b[32m    783\u001b[39m     )\n\u001b[32m--> \u001b[39m\u001b[32m785\u001b[39m \u001b[38;5;28;01mraise\u001b[39;00m \u001b[38;5;167;01mAttributeError\u001b[39;00m(\u001b[33mf\u001b[39m\u001b[33m\"\u001b[39m\u001b[33m'\u001b[39m\u001b[33mTable\u001b[39m\u001b[33m'\u001b[39m\u001b[33m object has no attribute \u001b[39m\u001b[38;5;132;01m{\u001b[39;00mkey\u001b[38;5;132;01m!r}\u001b[39;00m\u001b[33m\"\u001b[39m)\n",
      "\u001b[31mAttributeError\u001b[39m: 'Table' object has no attribute 'users__total_revenue'"
     ]
    }
   ],
   "source": [
    "# Query 2: Support efficiency metrics using the new cross-team measures\n",
    "efficiency_metrics = (\n",
    "    cross_team_st\n",
    "    .group_by(\"users__segment\")\n",
    "    .aggregate(\n",
    "        total_revenue=lambda t: t.users__total_revenue,\n",
    "        case_count=lambda t: t.support_cases__case_count,\n",
    "        support_cost_ratio=lambda t: t.support_cost_ratio,  # Using new measure\n",
    "        high_priority_rate=lambda t: t.high_priority_rate,  # Using new measure\n",
    "        avg_case_value=lambda t: t.avg_case_value  # Using new measure\n",
    "    )\n",
    ")\n",
    "\n",
    "print(\"\\nSupport Efficiency by Customer Segment:\")\n",
    "print(efficiency_metrics.execute())"
   ]
  },
  {
   "cell_type": "code",
   "execution_count": 14,
   "metadata": {},
   "outputs": [
    {
     "name": "stdout",
     "output_type": "stream",
     "text": [
      "\n",
      "Case Value by Priority:\n"
     ]
    },
    {
     "ename": "AttributeError",
     "evalue": "'Table' object has no attribute 'support_cases__case_count'",
     "output_type": "error",
     "traceback": [
      "\u001b[31m---------------------------------------------------------------------------\u001b[39m",
      "\u001b[31mAttributeError\u001b[39m                            Traceback (most recent call last)",
      "\u001b[36mCell\u001b[39m\u001b[36m \u001b[39m\u001b[32mIn[14]\u001b[39m\u001b[32m, line 13\u001b[39m\n\u001b[32m      2\u001b[39m priority_metrics = (\n\u001b[32m      3\u001b[39m     cross_team_st\n\u001b[32m      4\u001b[39m     .group_by(\u001b[33m\"\u001b[39m\u001b[33msupport_cases__priority\u001b[39m\u001b[33m\"\u001b[39m)\n\u001b[32m   (...)\u001b[39m\u001b[32m      9\u001b[39m     )\n\u001b[32m     10\u001b[39m )\n\u001b[32m     12\u001b[39m \u001b[38;5;28mprint\u001b[39m(\u001b[33m\"\u001b[39m\u001b[38;5;130;01m\\n\u001b[39;00m\u001b[33mCase Value by Priority:\u001b[39m\u001b[33m\"\u001b[39m)\n\u001b[32m---> \u001b[39m\u001b[32m13\u001b[39m \u001b[38;5;28mprint\u001b[39m(\u001b[43mpriority_metrics\u001b[49m\u001b[43m.\u001b[49m\u001b[43mexecute\u001b[49m\u001b[43m(\u001b[49m\u001b[43m)\u001b[49m)\n",
      "\u001b[36mFile \u001b[39m\u001b[32m~/Documents/wik/wikumeo/projects/boring-semantic-layer/src/boring_semantic_layer/semantic_api/api.py:96\u001b[39m, in \u001b[36mSemanticTableExpr.execute\u001b[39m\u001b[34m(self, *args, **kwargs)\u001b[39m\n\u001b[32m     95\u001b[39m \u001b[38;5;28;01mdef\u001b[39;00m\u001b[38;5;250m \u001b[39m\u001b[34mexecute\u001b[39m(\u001b[38;5;28mself\u001b[39m, *args: Any, **kwargs: Any) -> Any:\n\u001b[32m---> \u001b[39m\u001b[32m96\u001b[39m     \u001b[38;5;28;01mreturn\u001b[39;00m \u001b[38;5;28;43mself\u001b[39;49m\u001b[43m.\u001b[49m\u001b[43mto_ibis\u001b[49m\u001b[43m(\u001b[49m\u001b[43m)\u001b[49m.execute(*args, **kwargs)\n",
      "\u001b[36mFile \u001b[39m\u001b[32m~/Documents/wik/wikumeo/projects/boring-semantic-layer/src/boring_semantic_layer/semantic_api/api.py:93\u001b[39m, in \u001b[36mSemanticTableExpr.to_ibis\u001b[39m\u001b[34m(self, catalog)\u001b[39m\n\u001b[32m     92\u001b[39m \u001b[38;5;28;01mdef\u001b[39;00m\u001b[38;5;250m \u001b[39m\u001b[34mto_ibis\u001b[39m(\u001b[38;5;28mself\u001b[39m, catalog: \u001b[38;5;28mdict\u001b[39m[\u001b[38;5;28mstr\u001b[39m, Any] | \u001b[38;5;28;01mNone\u001b[39;00m = \u001b[38;5;28;01mNone\u001b[39;00m) -> IbisTable:\n\u001b[32m---> \u001b[39m\u001b[32m93\u001b[39m     \u001b[38;5;28;01mreturn\u001b[39;00m \u001b[43mconvert\u001b[49m\u001b[43m(\u001b[49m\u001b[38;5;28;43mself\u001b[39;49m\u001b[43m.\u001b[49m\u001b[43mto_expr\u001b[49m\u001b[43m(\u001b[49m\u001b[43m)\u001b[49m\u001b[43m,\u001b[49m\u001b[43m \u001b[49m\u001b[43mcatalog\u001b[49m\u001b[43m=\u001b[49m\u001b[43mcatalog\u001b[49m\u001b[43m \u001b[49m\u001b[38;5;129;43;01mor\u001b[39;49;00m\u001b[43m \u001b[49m\u001b[43m{\u001b[49m\u001b[43m}\u001b[49m\u001b[43m)\u001b[49m\n",
      "\u001b[36mFile \u001b[39m\u001b[32m/opt/homebrew/Cellar/python@3.12/3.12.9/Frameworks/Python.framework/Versions/3.12/lib/python3.12/functools.py:912\u001b[39m, in \u001b[36msingledispatch.<locals>.wrapper\u001b[39m\u001b[34m(*args, **kw)\u001b[39m\n\u001b[32m    908\u001b[39m \u001b[38;5;28;01mif\u001b[39;00m \u001b[38;5;129;01mnot\u001b[39;00m args:\n\u001b[32m    909\u001b[39m     \u001b[38;5;28;01mraise\u001b[39;00m \u001b[38;5;167;01mTypeError\u001b[39;00m(\u001b[33mf\u001b[39m\u001b[33m'\u001b[39m\u001b[38;5;132;01m{\u001b[39;00mfuncname\u001b[38;5;132;01m}\u001b[39;00m\u001b[33m requires at least \u001b[39m\u001b[33m'\u001b[39m\n\u001b[32m    910\u001b[39m                     \u001b[33m'\u001b[39m\u001b[33m1 positional argument\u001b[39m\u001b[33m'\u001b[39m)\n\u001b[32m--> \u001b[39m\u001b[32m912\u001b[39m \u001b[38;5;28;01mreturn\u001b[39;00m \u001b[43mdispatch\u001b[49m\u001b[43m(\u001b[49m\u001b[43margs\u001b[49m\u001b[43m[\u001b[49m\u001b[32;43m0\u001b[39;49m\u001b[43m]\u001b[49m\u001b[43m.\u001b[49m\u001b[34;43m__class__\u001b[39;49m\u001b[43m)\u001b[49m\u001b[43m(\u001b[49m\u001b[43m*\u001b[49m\u001b[43margs\u001b[49m\u001b[43m,\u001b[49m\u001b[43m \u001b[49m\u001b[43m*\u001b[49m\u001b[43m*\u001b[49m\u001b[43mkw\u001b[49m\u001b[43m)\u001b[49m\n",
      "\u001b[36mFile \u001b[39m\u001b[32m~/Documents/wik/wikumeo/projects/boring-semantic-layer/src/boring_semantic_layer/semantic_api/lower.py:52\u001b[39m, in \u001b[36m_convert_ibis_table\u001b[39m\u001b[34m(expr, catalog, *args)\u001b[39m\n\u001b[32m     50\u001b[39m \u001b[38;5;129m@convert\u001b[39m.register(IbisTableExpr)\n\u001b[32m     51\u001b[39m \u001b[38;5;28;01mdef\u001b[39;00m\u001b[38;5;250m \u001b[39m\u001b[34m_convert_ibis_table\u001b[39m(expr, catalog, *args):\n\u001b[32m---> \u001b[39m\u001b[32m52\u001b[39m     \u001b[38;5;28;01mreturn\u001b[39;00m \u001b[43mconvert\u001b[49m\u001b[43m(\u001b[49m\u001b[43mexpr\u001b[49m\u001b[43m.\u001b[49m\u001b[43mop\u001b[49m\u001b[43m(\u001b[49m\u001b[43m)\u001b[49m\u001b[43m,\u001b[49m\u001b[43m \u001b[49m\u001b[43mcatalog\u001b[49m\u001b[43m=\u001b[49m\u001b[43mcatalog\u001b[49m\u001b[43m)\u001b[49m\n",
      "\u001b[36mFile \u001b[39m\u001b[32m/opt/homebrew/Cellar/python@3.12/3.12.9/Frameworks/Python.framework/Versions/3.12/lib/python3.12/functools.py:912\u001b[39m, in \u001b[36msingledispatch.<locals>.wrapper\u001b[39m\u001b[34m(*args, **kw)\u001b[39m\n\u001b[32m    908\u001b[39m \u001b[38;5;28;01mif\u001b[39;00m \u001b[38;5;129;01mnot\u001b[39;00m args:\n\u001b[32m    909\u001b[39m     \u001b[38;5;28;01mraise\u001b[39;00m \u001b[38;5;167;01mTypeError\u001b[39;00m(\u001b[33mf\u001b[39m\u001b[33m'\u001b[39m\u001b[38;5;132;01m{\u001b[39;00mfuncname\u001b[38;5;132;01m}\u001b[39;00m\u001b[33m requires at least \u001b[39m\u001b[33m'\u001b[39m\n\u001b[32m    910\u001b[39m                     \u001b[33m'\u001b[39m\u001b[33m1 positional argument\u001b[39m\u001b[33m'\u001b[39m)\n\u001b[32m--> \u001b[39m\u001b[32m912\u001b[39m \u001b[38;5;28;01mreturn\u001b[39;00m \u001b[43mdispatch\u001b[49m\u001b[43m(\u001b[49m\u001b[43margs\u001b[49m\u001b[43m[\u001b[49m\u001b[32;43m0\u001b[39;49m\u001b[43m]\u001b[49m\u001b[43m.\u001b[49m\u001b[34;43m__class__\u001b[39;49m\u001b[43m)\u001b[49m\u001b[43m(\u001b[49m\u001b[43m*\u001b[49m\u001b[43margs\u001b[49m\u001b[43m,\u001b[49m\u001b[43m \u001b[49m\u001b[43m*\u001b[49m\u001b[43m*\u001b[49m\u001b[43mkw\u001b[49m\u001b[43m)\u001b[49m\n",
      "\u001b[36mFile \u001b[39m\u001b[32m~/Documents/wik/wikumeo/projects/boring-semantic-layer/src/boring_semantic_layer/semantic_api/lower.py:196\u001b[39m, in \u001b[36m_lower_semantic_aggregate\u001b[39m\u001b[34m(node, catalog, *args)\u001b[39m\n\u001b[32m    193\u001b[39m         \u001b[38;5;28;01mreturn\u001b[39;00m \u001b[38;5;28mgetattr\u001b[39m(\u001b[38;5;28mself\u001b[39m._t, key)\n\u001b[32m    195\u001b[39m proxy = _AggResolver(tbl, merged_dimensions, merged_measures)\n\u001b[32m--> \u001b[39m\u001b[32m196\u001b[39m meas_exprs = [\u001b[43mfn\u001b[49m\u001b[43m(\u001b[49m\u001b[43mproxy\u001b[49m\u001b[43m)\u001b[49m.name(name) \u001b[38;5;28;01mfor\u001b[39;00m name, fn \u001b[38;5;129;01min\u001b[39;00m node.aggs.items()]\n\u001b[32m    198\u001b[39m \u001b[38;5;28;01mif\u001b[39;00m group_exprs:\n\u001b[32m    199\u001b[39m     \u001b[38;5;28;01mreturn\u001b[39;00m tbl.group_by(group_exprs).aggregate(meas_exprs)\n",
      "\u001b[36mCell\u001b[39m\u001b[36m \u001b[39m\u001b[32mIn[14]\u001b[39m\u001b[32m, line 6\u001b[39m, in \u001b[36m<lambda>\u001b[39m\u001b[34m(t)\u001b[39m\n\u001b[32m      1\u001b[39m \u001b[38;5;66;03m# Query 3: Priority analysis with new measures\u001b[39;00m\n\u001b[32m      2\u001b[39m priority_metrics = (\n\u001b[32m      3\u001b[39m     cross_team_st\n\u001b[32m      4\u001b[39m     .group_by(\u001b[33m\"\u001b[39m\u001b[33msupport_cases__priority\u001b[39m\u001b[33m\"\u001b[39m)\n\u001b[32m      5\u001b[39m     .aggregate(\n\u001b[32m----> \u001b[39m\u001b[32m6\u001b[39m         case_count=\u001b[38;5;28;01mlambda\u001b[39;00m t: \u001b[43mt\u001b[49m\u001b[43m.\u001b[49m\u001b[43msupport_cases__case_count\u001b[49m,\n\u001b[32m      7\u001b[39m         avg_case_value=\u001b[38;5;28;01mlambda\u001b[39;00m t: t.avg_case_value,\n\u001b[32m      8\u001b[39m         total_revenue=\u001b[38;5;28;01mlambda\u001b[39;00m t: t.users__total_revenue\n\u001b[32m      9\u001b[39m     )\n\u001b[32m     10\u001b[39m )\n\u001b[32m     12\u001b[39m \u001b[38;5;28mprint\u001b[39m(\u001b[33m\"\u001b[39m\u001b[38;5;130;01m\\n\u001b[39;00m\u001b[33mCase Value by Priority:\u001b[39m\u001b[33m\"\u001b[39m)\n\u001b[32m     13\u001b[39m \u001b[38;5;28mprint\u001b[39m(priority_metrics.execute())\n",
      "\u001b[36mFile \u001b[39m\u001b[32m~/Documents/wik/wikumeo/projects/boring-semantic-layer/src/boring_semantic_layer/semantic_api/lower.py:179\u001b[39m, in \u001b[36m_lower_semantic_aggregate.<locals>._AggResolver.__getattr__\u001b[39m\u001b[34m(self, key)\u001b[39m\n\u001b[32m    177\u001b[39m     \u001b[38;5;28;01mreturn\u001b[39;00m \u001b[38;5;28mself\u001b[39m._dims[key](\u001b[38;5;28mself\u001b[39m._t)\n\u001b[32m    178\u001b[39m \u001b[38;5;28;01mif\u001b[39;00m key \u001b[38;5;129;01min\u001b[39;00m \u001b[38;5;28mself\u001b[39m._meas:\n\u001b[32m--> \u001b[39m\u001b[32m179\u001b[39m     \u001b[38;5;28;01mreturn\u001b[39;00m \u001b[38;5;28;43mself\u001b[39;49m\u001b[43m.\u001b[49m\u001b[43m_meas\u001b[49m\u001b[43m[\u001b[49m\u001b[43mkey\u001b[49m\u001b[43m]\u001b[49m\u001b[43m(\u001b[49m\u001b[38;5;28;43mself\u001b[39;49m\u001b[43m.\u001b[49m\u001b[43m_t\u001b[49m\u001b[43m)\u001b[49m\n\u001b[32m    181\u001b[39m \u001b[38;5;66;03m# 2. Try prefixed versions (table__name format)\u001b[39;00m\n\u001b[32m    182\u001b[39m \u001b[38;5;28;01mfor\u001b[39;00m dim_name, dim_func \u001b[38;5;129;01min\u001b[39;00m \u001b[38;5;28mself\u001b[39m._dims.items():\n",
      "\u001b[36mFile \u001b[39m\u001b[32m~/Documents/wik/wikumeo/projects/boring-semantic-layer/src/boring_semantic_layer/semantic_api/ops.py:38\u001b[39m, in \u001b[36mMeasure.__call__\u001b[39m\u001b[34m(self, table)\u001b[39m\n\u001b[32m     37\u001b[39m \u001b[38;5;28;01mdef\u001b[39;00m\u001b[38;5;250m \u001b[39m\u001b[34m__call__\u001b[39m(\u001b[38;5;28mself\u001b[39m, table: Any) -> Any:\n\u001b[32m---> \u001b[39m\u001b[32m38\u001b[39m     \u001b[38;5;28;01mreturn\u001b[39;00m \u001b[38;5;28;43mself\u001b[39;49m\u001b[43m.\u001b[49m\u001b[43mexpr\u001b[49m\u001b[43m(\u001b[49m\u001b[43mtable\u001b[49m\u001b[43m)\u001b[49m\n",
      "\u001b[36mCell\u001b[39m\u001b[36m \u001b[39m\u001b[32mIn[5]\u001b[39m\u001b[32m, line 19\u001b[39m, in \u001b[36m<lambda>\u001b[39m\u001b[34m(t)\u001b[39m\n\u001b[32m      2\u001b[39m joined_st = marketing_st.join(support_st, on=\u001b[38;5;28;01mlambda\u001b[39;00m u, s: u.customer_id == s.customer_id)\n\u001b[32m      4\u001b[39m \u001b[38;5;66;03m# Create a new semantic table with cross-team metrics\u001b[39;00m\n\u001b[32m      5\u001b[39m \u001b[38;5;66;03m# Note: We need to explicitly define which dimensions we want to include\u001b[39;00m\n\u001b[32m      6\u001b[39m cross_team_st = (\n\u001b[32m      7\u001b[39m     to_semantic_table(joined_st, name=\u001b[33m\"\u001b[39m\u001b[33mcross_team_metrics\u001b[39m\u001b[33m\"\u001b[39m)\n\u001b[32m      8\u001b[39m     .with_dimensions(\n\u001b[32m      9\u001b[39m         \u001b[38;5;66;03m# Include key dimensions from both tables\u001b[39;00m\n\u001b[32m     10\u001b[39m         users__segment=\u001b[38;5;28;01mlambda\u001b[39;00m t: t.segment,\n\u001b[32m     11\u001b[39m         users__customer_id=\u001b[38;5;28;01mlambda\u001b[39;00m t: t.customer_id,\n\u001b[32m     12\u001b[39m         support_cases__priority=\u001b[38;5;28;01mlambda\u001b[39;00m t: t.priority,\n\u001b[32m     13\u001b[39m         support_cases__created_date=\u001b[38;5;28;01mlambda\u001b[39;00m t: t.created_date\n\u001b[32m     14\u001b[39m     )\n\u001b[32m     15\u001b[39m     .with_measures(\n\u001b[32m     16\u001b[39m         \u001b[38;5;66;03m# Include original measures from both tables\u001b[39;00m\n\u001b[32m     17\u001b[39m         users__user_count=\u001b[38;5;28;01mlambda\u001b[39;00m t: t.users__user_count,\n\u001b[32m     18\u001b[39m         users__total_revenue=\u001b[38;5;28;01mlambda\u001b[39;00m t: t.users__total_revenue,\n\u001b[32m---> \u001b[39m\u001b[32m19\u001b[39m         support_cases__case_count=\u001b[38;5;28;01mlambda\u001b[39;00m t: \u001b[43mt\u001b[49m\u001b[43m.\u001b[49m\u001b[43msupport_cases__case_count\u001b[49m,\n\u001b[32m     20\u001b[39m         support_cases__high_priority_cases=\u001b[38;5;28;01mlambda\u001b[39;00m t: t.support_cases__high_priority_cases,\n\u001b[32m     21\u001b[39m \n\u001b[32m     22\u001b[39m         \u001b[38;5;66;03m# New cross-team measures that combine data from both teams\u001b[39;00m\n\u001b[32m     23\u001b[39m         cases_per_user=\u001b[38;5;28;01mlambda\u001b[39;00m t: t.support_cases__case_count / t.users__user_count,\n\u001b[32m     24\u001b[39m         support_cost_ratio=\u001b[38;5;28;01mlambda\u001b[39;00m t: t.support_cases__case_count / t.users__total_revenue * \u001b[32m1000\u001b[39m,  \u001b[38;5;66;03m# cases per $1000 revenue\u001b[39;00m\n\u001b[32m     25\u001b[39m         high_priority_rate=\u001b[38;5;28;01mlambda\u001b[39;00m t: t.support_cases__high_priority_cases / t.support_cases__case_count,\n\u001b[32m     26\u001b[39m         avg_case_value=\u001b[38;5;28;01mlambda\u001b[39;00m t: t.users__total_revenue / t.support_cases__case_count,  \u001b[38;5;66;03m# revenue per case\u001b[39;00m\n\u001b[32m     27\u001b[39m     )\n\u001b[32m     28\u001b[39m )\n\u001b[32m     30\u001b[39m \u001b[38;5;28mprint\u001b[39m(\u001b[33m\"\u001b[39m\u001b[33mCross-team semantic table created with new measures!\u001b[39m\u001b[33m\"\u001b[39m)\n",
      "\u001b[36mFile \u001b[39m\u001b[32m~/Documents/wik/wikumeo/projects/boring-semantic-layer/.venv/lib/python3.12/site-packages/ibis/expr/types/relations.py:785\u001b[39m, in \u001b[36mTable.__getattr__\u001b[39m\u001b[34m(self, key)\u001b[39m\n\u001b[32m    780\u001b[39m     hint = common_typos[key]\n\u001b[32m    781\u001b[39m     \u001b[38;5;28;01mraise\u001b[39;00m \u001b[38;5;167;01mAttributeError\u001b[39;00m(\n\u001b[32m    782\u001b[39m         \u001b[33mf\u001b[39m\u001b[33m\"\u001b[39m\u001b[38;5;132;01m{\u001b[39;00m\u001b[38;5;28mtype\u001b[39m(\u001b[38;5;28mself\u001b[39m).\u001b[34m__name__\u001b[39m\u001b[38;5;132;01m}\u001b[39;00m\u001b[33m object has no attribute \u001b[39m\u001b[38;5;132;01m{\u001b[39;00mkey\u001b[38;5;132;01m!r}\u001b[39;00m\u001b[33m, did you mean \u001b[39m\u001b[38;5;132;01m{\u001b[39;00mhint\u001b[38;5;132;01m!r}\u001b[39;00m\u001b[33m\"\u001b[39m\n\u001b[32m    783\u001b[39m     )\n\u001b[32m--> \u001b[39m\u001b[32m785\u001b[39m \u001b[38;5;28;01mraise\u001b[39;00m \u001b[38;5;167;01mAttributeError\u001b[39;00m(\u001b[33mf\u001b[39m\u001b[33m\"\u001b[39m\u001b[33m'\u001b[39m\u001b[33mTable\u001b[39m\u001b[33m'\u001b[39m\u001b[33m object has no attribute \u001b[39m\u001b[38;5;132;01m{\u001b[39;00mkey\u001b[38;5;132;01m!r}\u001b[39;00m\u001b[33m\"\u001b[39m)\n",
      "\u001b[31mAttributeError\u001b[39m: 'Table' object has no attribute 'support_cases__case_count'"
     ]
    }
   ],
   "source": [
    "# Query 3: Priority analysis with new measures\n",
    "priority_metrics = (\n",
    "    cross_team_st\n",
    "    .group_by(\"support_cases__priority\")\n",
    "    .aggregate(\n",
    "        case_count=lambda t: t.support_cases__case_count,\n",
    "        avg_case_value=lambda t: t.avg_case_value,\n",
    "        total_revenue=lambda t: t.users__total_revenue\n",
    "    )\n",
    ")\n",
    "\n",
    "print(\"\\nCase Value by Priority:\")\n",
    "print(priority_metrics.execute())"
   ]
  }
 ],
 "metadata": {
  "kernelspec": {
   "display_name": ".venv",
   "language": "python",
   "name": "python3"
  },
  "language_info": {
   "codemirror_mode": {
    "name": "ipython",
    "version": 3
   },
   "file_extension": ".py",
   "mimetype": "text/x-python",
   "name": "python",
   "nbconvert_exporter": "python",
   "pygments_lexer": "ipython3",
   "version": "3.12.9"
  }
 },
 "nbformat": 4,
 "nbformat_minor": 4
}
