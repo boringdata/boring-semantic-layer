{
 "cells": [
  {
   "cell_type": "code",
   "execution_count": 31,
   "id": "2d77e613",
   "metadata": {},
   "outputs": [
    {
     "ename": "AttributeError",
     "evalue": "'Table' object has no attribute 'flight_count'",
     "output_type": "error",
     "traceback": [
      "\u001b[31m---------------------------------------------------------------------------\u001b[39m",
      "\u001b[31mAttributeError\u001b[39m                            Traceback (most recent call last)",
      "\u001b[36mCell\u001b[39m\u001b[36m \u001b[39m\u001b[32mIn[31]\u001b[39m\u001b[32m, line 56\u001b[39m\n\u001b[32m     10\u001b[39m carriers_sm = SemanticModel(\n\u001b[32m     11\u001b[39m     name=\u001b[33m\"\u001b[39m\u001b[33mcarriers\u001b[39m\u001b[33m\"\u001b[39m,\n\u001b[32m     12\u001b[39m     table=carriers_tbl,\n\u001b[32m   (...)\u001b[39m\u001b[32m     21\u001b[39m     primary_key=\u001b[33m\"\u001b[39m\u001b[33mcode\u001b[39m\u001b[33m\"\u001b[39m,\n\u001b[32m     22\u001b[39m )\n\u001b[32m     24\u001b[39m flights_sm = SemanticModel(\n\u001b[32m     25\u001b[39m     name=\u001b[33m\"\u001b[39m\u001b[33mflights\u001b[39m\u001b[33m\"\u001b[39m,\n\u001b[32m     26\u001b[39m     table=flights_tbl,\n\u001b[32m   (...)\u001b[39m\u001b[32m     48\u001b[39m     },\n\u001b[32m     49\u001b[39m )\n\u001b[32m     51\u001b[39m \u001b[43mflights_sm\u001b[49m\u001b[43m.\u001b[49m\u001b[43mquery\u001b[49m\u001b[43m(\u001b[49m\n\u001b[32m     52\u001b[39m \u001b[43m    \u001b[49m\u001b[43mdimensions\u001b[49m\u001b[43m=\u001b[49m\u001b[43m[\u001b[49m\u001b[33;43m\"\u001b[39;49m\u001b[33;43mdestination\u001b[39;49m\u001b[33;43m\"\u001b[39;49m\u001b[43m]\u001b[49m\u001b[43m,\u001b[49m\n\u001b[32m     53\u001b[39m \u001b[43m    \u001b[49m\u001b[43mmeasures\u001b[49m\u001b[43m=\u001b[49m\u001b[43m[\u001b[49m\u001b[33;43m\"\u001b[39;49m\u001b[33;43mflight_count\u001b[39;49m\u001b[33;43m\"\u001b[39;49m\u001b[43m,\u001b[49m\u001b[43m \u001b[49m\u001b[33;43m\"\u001b[39;49m\u001b[33;43mflight_perc\u001b[39;49m\u001b[33;43m\"\u001b[39;49m\u001b[43m]\u001b[49m\u001b[43m,\u001b[49m\n\u001b[32m     54\u001b[39m \u001b[43m    \u001b[49m\u001b[43mlimit\u001b[49m\u001b[43m=\u001b[49m\u001b[32;43m25\u001b[39;49m\u001b[43m,\u001b[49m\n\u001b[32m     55\u001b[39m \u001b[43m    \u001b[49m\u001b[43morder_by\u001b[49m\u001b[43m=\u001b[49m\u001b[43m[\u001b[49m\u001b[43m(\u001b[49m\u001b[33;43m\"\u001b[39;49m\u001b[33;43mflight_count\u001b[39;49m\u001b[33;43m\"\u001b[39;49m\u001b[43m,\u001b[49m\u001b[43m \u001b[49m\u001b[33;43m\"\u001b[39;49m\u001b[33;43mdesc\u001b[39;49m\u001b[33;43m\"\u001b[39;49m\u001b[43m)\u001b[49m\u001b[43m]\u001b[49m\u001b[43m,\u001b[49m\n\u001b[32m---> \u001b[39m\u001b[32m56\u001b[39m \u001b[43m)\u001b[49m\u001b[43m.\u001b[49m\u001b[43mexecute\u001b[49m\u001b[43m(\u001b[49m\u001b[43m)\u001b[49m\n",
      "\u001b[36mFile \u001b[39m\u001b[32m~/Documents/Sumeo/projects/boringdata/boring-semantic-layer/src/boring_semantic_layer/semantic_model.py:763\u001b[39m, in \u001b[36mQueryExpr.execute\u001b[39m\u001b[34m(self, *args, **kwargs)\u001b[39m\n\u001b[32m    753\u001b[39m \u001b[38;5;28;01mdef\u001b[39;00m\u001b[38;5;250m \u001b[39m\u001b[34mexecute\u001b[39m(\u001b[38;5;28mself\u001b[39m, *args, **kwargs):\n\u001b[32m    754\u001b[39m \u001b[38;5;250m    \u001b[39m\u001b[33;03m\"\"\"\u001b[39;00m\n\u001b[32m    755\u001b[39m \u001b[33;03m    Execute the compiled Ibis expression and return the result.\u001b[39;00m\n\u001b[32m    756\u001b[39m \n\u001b[32m   (...)\u001b[39m\u001b[32m    761\u001b[39m \u001b[33;03m        The result of executing the query.\u001b[39;00m\n\u001b[32m    762\u001b[39m \u001b[33;03m    \"\"\"\u001b[39;00m\n\u001b[32m--> \u001b[39m\u001b[32m763\u001b[39m     \u001b[38;5;28;01mreturn\u001b[39;00m \u001b[38;5;28;43mself\u001b[39;49m\u001b[43m.\u001b[49m\u001b[43mto_expr\u001b[49m\u001b[43m(\u001b[49m\u001b[43m)\u001b[49m.execute(*args, **kwargs)\n",
      "\u001b[36mFile \u001b[39m\u001b[32m~/Documents/Sumeo/projects/boringdata/boring-semantic-layer/src/boring_semantic_layer/semantic_model.py:749\u001b[39m, in \u001b[36mQueryExpr.to_expr\u001b[39m\u001b[34m(self)\u001b[39m\n\u001b[32m    742\u001b[39m \u001b[38;5;28;01mdef\u001b[39;00m\u001b[38;5;250m \u001b[39m\u001b[34mto_expr\u001b[39m(\u001b[38;5;28mself\u001b[39m) -> Expr:\n\u001b[32m    743\u001b[39m \u001b[38;5;250m    \u001b[39m\u001b[33;03m\"\"\"\u001b[39;00m\n\u001b[32m    744\u001b[39m \u001b[33;03m    Compile this QueryExpr into an Ibis expression.\u001b[39;00m\n\u001b[32m    745\u001b[39m \n\u001b[32m    746\u001b[39m \u001b[33;03m    Returns:\u001b[39;00m\n\u001b[32m    747\u001b[39m \u001b[33;03m        Expr: The compiled Ibis expression representing the query.\u001b[39;00m\n\u001b[32m    748\u001b[39m \u001b[33;03m    \"\"\"\u001b[39;00m\n\u001b[32m--> \u001b[39m\u001b[32m749\u001b[39m     \u001b[38;5;28;01mreturn\u001b[39;00m \u001b[43m_compile_query\u001b[49m\u001b[43m(\u001b[49m\u001b[38;5;28;43mself\u001b[39;49m\u001b[43m)\u001b[49m\n",
      "\u001b[36mFile \u001b[39m\u001b[32m~/Documents/Sumeo/projects/boringdata/boring-semantic-layer/src/boring_semantic_layer/semantic_model.py:430\u001b[39m, in \u001b[36m_compile_query\u001b[39m\u001b[34m(qe)\u001b[39m\n\u001b[32m    428\u001b[39m         agg_kwargs[name] = expr.name(name)\n\u001b[32m    429\u001b[39m     \u001b[38;5;28;01melse\u001b[39;00m:\n\u001b[32m--> \u001b[39m\u001b[32m430\u001b[39m         expr = \u001b[43mmodel\u001b[49m\u001b[43m.\u001b[49m\u001b[43mmeasures\u001b[49m\u001b[43m[\u001b[49m\u001b[43mm\u001b[49m\u001b[43m]\u001b[49m\u001b[43m(\u001b[49m\u001b[43mt\u001b[49m\u001b[43m)\u001b[49m\n\u001b[32m    431\u001b[39m         agg_kwargs[m] = expr.name(m)\n\u001b[32m    433\u001b[39m \u001b[38;5;66;03m# Group and aggregate\u001b[39;00m\n",
      "\u001b[36mCell\u001b[39m\u001b[36m \u001b[39m\u001b[32mIn[31]\u001b[39m\u001b[32m, line 40\u001b[39m, in \u001b[36m<lambda>\u001b[39m\u001b[34m(t)\u001b[39m\n\u001b[32m      8\u001b[39m carriers_tbl = con.read_parquet(\u001b[33mf\u001b[39m\u001b[33m\"\u001b[39m\u001b[38;5;132;01m{\u001b[39;00mBASE_URL\u001b[38;5;132;01m}\u001b[39;00m\u001b[33m/carriers.parquet\u001b[39m\u001b[33m\"\u001b[39m)\n\u001b[32m     10\u001b[39m carriers_sm = SemanticModel(\n\u001b[32m     11\u001b[39m     name=\u001b[33m\"\u001b[39m\u001b[33mcarriers\u001b[39m\u001b[33m\"\u001b[39m,\n\u001b[32m     12\u001b[39m     table=carriers_tbl,\n\u001b[32m   (...)\u001b[39m\u001b[32m     21\u001b[39m     primary_key=\u001b[33m\"\u001b[39m\u001b[33mcode\u001b[39m\u001b[33m\"\u001b[39m,\n\u001b[32m     22\u001b[39m )\n\u001b[32m     24\u001b[39m flights_sm = SemanticModel(\n\u001b[32m     25\u001b[39m     name=\u001b[33m\"\u001b[39m\u001b[33mflights\u001b[39m\u001b[33m\"\u001b[39m,\n\u001b[32m     26\u001b[39m     table=flights_tbl,\n\u001b[32m     27\u001b[39m     dimensions={\n\u001b[32m     28\u001b[39m         \u001b[33m\"\u001b[39m\u001b[33morigin\u001b[39m\u001b[33m\"\u001b[39m: \u001b[38;5;28;01mlambda\u001b[39;00m t: t.origin,\n\u001b[32m     29\u001b[39m         \u001b[33m\"\u001b[39m\u001b[33mdestination\u001b[39m\u001b[33m\"\u001b[39m: \u001b[38;5;28;01mlambda\u001b[39;00m t: t.destination,\n\u001b[32m     30\u001b[39m         \u001b[33m\"\u001b[39m\u001b[33mcarrier\u001b[39m\u001b[33m\"\u001b[39m: \u001b[38;5;28;01mlambda\u001b[39;00m t: t.carrier,\n\u001b[32m     31\u001b[39m         \u001b[33m\"\u001b[39m\u001b[33mtail_num\u001b[39m\u001b[33m\"\u001b[39m: \u001b[38;5;28;01mlambda\u001b[39;00m t: t.tail_num,\n\u001b[32m     32\u001b[39m         \u001b[33m\"\u001b[39m\u001b[33marr_time\u001b[39m\u001b[33m\"\u001b[39m: \u001b[38;5;28;01mlambda\u001b[39;00m t: t.arr_time,\n\u001b[32m     33\u001b[39m     },\n\u001b[32m     34\u001b[39m     time_dimension=\u001b[33m\"\u001b[39m\u001b[33marr_time\u001b[39m\u001b[33m\"\u001b[39m,\n\u001b[32m     35\u001b[39m     smallest_time_grain=\u001b[33m\"\u001b[39m\u001b[33mTIME_GRAIN_SECOND\u001b[39m\u001b[33m\"\u001b[39m,\n\u001b[32m     36\u001b[39m     measures={\n\u001b[32m     37\u001b[39m         \u001b[33m\"\u001b[39m\u001b[33mflight_count\u001b[39m\u001b[33m\"\u001b[39m: \u001b[38;5;28;01mlambda\u001b[39;00m t: t.count(),\n\u001b[32m     38\u001b[39m         \u001b[33m\"\u001b[39m\u001b[33mavg_dep_delay\u001b[39m\u001b[33m\"\u001b[39m: \u001b[38;5;28;01mlambda\u001b[39;00m t: t.dep_delay.mean(),\n\u001b[32m     39\u001b[39m         \u001b[33m\"\u001b[39m\u001b[33mavg_distance\u001b[39m\u001b[33m\"\u001b[39m: \u001b[38;5;28;01mlambda\u001b[39;00m t: t.distance.mean(),\n\u001b[32m---> \u001b[39m\u001b[32m40\u001b[39m         \u001b[33m\"\u001b[39m\u001b[33mflight_perc\u001b[39m\u001b[33m\"\u001b[39m: \u001b[38;5;28;01mlambda\u001b[39;00m t: t.mutate( \u001b[43mt\u001b[49m\u001b[43m.\u001b[49m\u001b[43mflight_count\u001b[49m() / t.flight_count().sum()),\n\u001b[32m     41\u001b[39m     },\n\u001b[32m     42\u001b[39m     joins={\n\u001b[32m     43\u001b[39m         \u001b[33m\"\u001b[39m\u001b[33mcarriers\u001b[39m\u001b[33m\"\u001b[39m: Join.one(\n\u001b[32m     44\u001b[39m             alias=\u001b[33m\"\u001b[39m\u001b[33mcarriers\u001b[39m\u001b[33m\"\u001b[39m,\n\u001b[32m     45\u001b[39m             model=carriers_sm,\n\u001b[32m     46\u001b[39m             with_=\u001b[38;5;28;01mlambda\u001b[39;00m left: left.carrier,\n\u001b[32m     47\u001b[39m         ),\n\u001b[32m     48\u001b[39m     },\n\u001b[32m     49\u001b[39m )\n\u001b[32m     51\u001b[39m flights_sm.query(\n\u001b[32m     52\u001b[39m     dimensions=[\u001b[33m\"\u001b[39m\u001b[33mdestination\u001b[39m\u001b[33m\"\u001b[39m],\n\u001b[32m     53\u001b[39m     measures=[\u001b[33m\"\u001b[39m\u001b[33mflight_count\u001b[39m\u001b[33m\"\u001b[39m, \u001b[33m\"\u001b[39m\u001b[33mflight_perc\u001b[39m\u001b[33m\"\u001b[39m],\n\u001b[32m     54\u001b[39m     limit=\u001b[32m25\u001b[39m,\n\u001b[32m     55\u001b[39m     order_by=[(\u001b[33m\"\u001b[39m\u001b[33mflight_count\u001b[39m\u001b[33m\"\u001b[39m, \u001b[33m\"\u001b[39m\u001b[33mdesc\u001b[39m\u001b[33m\"\u001b[39m)],\n\u001b[32m     56\u001b[39m ).execute()\n",
      "\u001b[36mFile \u001b[39m\u001b[32m~/Documents/Sumeo/projects/boringdata/boring-semantic-layer/.venv/lib/python3.12/site-packages/ibis/expr/types/relations.py:785\u001b[39m, in \u001b[36mTable.__getattr__\u001b[39m\u001b[34m(self, key)\u001b[39m\n\u001b[32m    780\u001b[39m     hint = common_typos[key]\n\u001b[32m    781\u001b[39m     \u001b[38;5;28;01mraise\u001b[39;00m \u001b[38;5;167;01mAttributeError\u001b[39;00m(\n\u001b[32m    782\u001b[39m         \u001b[33mf\u001b[39m\u001b[33m\"\u001b[39m\u001b[38;5;132;01m{\u001b[39;00m\u001b[38;5;28mtype\u001b[39m(\u001b[38;5;28mself\u001b[39m).\u001b[34m__name__\u001b[39m\u001b[38;5;132;01m}\u001b[39;00m\u001b[33m object has no attribute \u001b[39m\u001b[38;5;132;01m{\u001b[39;00mkey\u001b[38;5;132;01m!r}\u001b[39;00m\u001b[33m, did you mean \u001b[39m\u001b[38;5;132;01m{\u001b[39;00mhint\u001b[38;5;132;01m!r}\u001b[39;00m\u001b[33m\"\u001b[39m\n\u001b[32m    783\u001b[39m     )\n\u001b[32m--> \u001b[39m\u001b[32m785\u001b[39m \u001b[38;5;28;01mraise\u001b[39;00m \u001b[38;5;167;01mAttributeError\u001b[39;00m(\u001b[33mf\u001b[39m\u001b[33m\"\u001b[39m\u001b[33m'\u001b[39m\u001b[33mTable\u001b[39m\u001b[33m'\u001b[39m\u001b[33m object has no attribute \u001b[39m\u001b[38;5;132;01m{\u001b[39;00mkey\u001b[38;5;132;01m!r}\u001b[39;00m\u001b[33m\"\u001b[39m)\n",
      "\u001b[31mAttributeError\u001b[39m: 'Table' object has no attribute 'flight_count'"
     ]
    }
   ],
   "source": [
    "import ibis\n",
    "from boring_semantic_layer import SemanticModel, Join\n",
    "\n",
    "con = ibis.duckdb.connect(\":memory:\")\n",
    "\n",
    "BASE_URL = \"https://pub-a45a6a332b4646f2a6f44775695c64df.r2.dev\"\n",
    "flights_tbl = con.read_parquet(f\"{BASE_URL}/flights.parquet\")\n",
    "carriers_tbl = con.read_parquet(f\"{BASE_URL}/carriers.parquet\")\n",
    "\n",
    "carriers_sm = SemanticModel(\n",
    "    name=\"carriers\",\n",
    "    table=carriers_tbl,\n",
    "    dimensions={\n",
    "        \"code\": lambda t: t.code,\n",
    "        \"name\": lambda t: t.name,\n",
    "        \"nickname\": lambda t: t.nickname,\n",
    "    },\n",
    "    measures={\n",
    "        \"carrier_count\": lambda t: t.count(),\n",
    "    },\n",
    "    primary_key=\"code\",\n",
    ")\n",
    "\n",
    "flights_sm = SemanticModel(\n",
    "    name=\"flights\",\n",
    "    table=flights_tbl,\n",
    "    dimensions={\n",
    "        \"origin\": lambda t: t.origin,\n",
    "        \"destination\": lambda t: t.destination,\n",
    "        \"carrier\": lambda t: t.carrier,\n",
    "        \"tail_num\": lambda t: t.tail_num,\n",
    "        \"arr_time\": lambda t: t.arr_time,\n",
    "    },\n",
    "    time_dimension=\"arr_time\",\n",
    "    smallest_time_grain=\"TIME_GRAIN_SECOND\",\n",
    "    measures={\n",
    "        \"flight_count\": lambda t: t.count(),\n",
    "        \"avg_dep_delay\": lambda t: t.dep_delay.mean(),\n",
    "        \"avg_distance\": lambda t: t.distance.mean(),\n",
    "        \"flight_perc\": lambda t: t.mutate(t.flight_count() / t.flight_count().sum()),\n",
    "    },\n",
    "    joins={\n",
    "        \"carriers\": Join.one(\n",
    "            alias=\"carriers\",\n",
    "            model=carriers_sm,\n",
    "            with_=lambda left: left.carrier,\n",
    "        ),\n",
    "    },\n",
    ")\n",
    "\n",
    "flights_sm.query(\n",
    "    dimensions=[\"destination\"],\n",
    "    measures=[\"flight_count\", \"flight_perc\"],\n",
    "    limit=25,\n",
    "    order_by=[(\"flight_count\", \"desc\")],\n",
    ").execute()"
   ]
  }
 ],
 "metadata": {
  "kernelspec": {
   "display_name": ".venv",
   "language": "python",
   "name": "python3"
  },
  "language_info": {
   "codemirror_mode": {
    "name": "ipython",
    "version": 3
   },
   "file_extension": ".py",
   "mimetype": "text/x-python",
   "name": "python",
   "nbconvert_exporter": "python",
   "pygments_lexer": "ipython3",
   "version": "3.12.9"
  }
 },
 "nbformat": 4,
 "nbformat_minor": 5
}
