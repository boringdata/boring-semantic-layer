{
 "cells": [
  {
   "cell_type": "code",
   "execution_count": 3,
   "id": "79493fee",
   "metadata": {},
   "outputs": [],
   "source": [
    "import ibis\n",
    "from boring_semantic_layer.semantic_api.api import to_semantic_table\n",
    "\n",
    "con = ibis.duckdb.connect(\":memory:\")\n",
    "\n",
    "BASE_URL = \"https://pub-a45a6a332b4646f2a6f44775695c64df.r2.dev\"\n",
    "tables = {\n",
    "    \"flights_tbl\": con.read_parquet(f\"{BASE_URL}/flights.parquet\"),\n",
    "    \"carriers_tbl\": con.read_parquet(f\"{BASE_URL}/carriers.parquet\"),\n",
    "}"
   ]
  },
  {
   "cell_type": "code",
   "execution_count": 4,
   "id": "1e9a6589",
   "metadata": {},
   "outputs": [
    {
     "data": {
      "text/html": [
       "<pre style=\"white-space:pre;overflow-x:auto;line-height:normal;font-family:Menlo,'DejaVu Sans Mono',consolas,'Courier New',monospace\">DatabaseTable: ibis_read_parquet_ymeri6hsyraczeezmkfazpfg2e\n",
       "  carrier     string\n",
       "  origin      string\n",
       "  destination string\n",
       "  flight_num  string\n",
       "  flight_time int64\n",
       "  tail_num    string\n",
       "  dep_time    timestamp(6)\n",
       "  arr_time    timestamp(6)\n",
       "  dep_delay   int64\n",
       "  arr_delay   int64\n",
       "  taxi_out    int64\n",
       "  taxi_in     int64\n",
       "  distance    int64\n",
       "  cancelled   string\n",
       "  diverted    string\n",
       "  id2         int64\n",
       "</pre>\n"
      ],
      "text/plain": [
       "DatabaseTable: ibis_read_parquet_ymeri6hsyraczeezmkfazpfg2e\n",
       "  carrier     string\n",
       "  origin      string\n",
       "  destination string\n",
       "  flight_num  string\n",
       "  flight_time int64\n",
       "  tail_num    string\n",
       "  dep_time    timestamp(6)\n",
       "  arr_time    timestamp(6)\n",
       "  dep_delay   int64\n",
       "  arr_delay   int64\n",
       "  taxi_out    int64\n",
       "  taxi_in     int64\n",
       "  distance    int64\n",
       "  cancelled   string\n",
       "  diverted    string\n",
       "  id2         int64"
      ]
     },
     "execution_count": 4,
     "metadata": {},
     "output_type": "execute_result"
    }
   ],
   "source": [
    "tables[\"flights_tbl\"]"
   ]
  },
  {
   "cell_type": "code",
   "execution_count": 10,
   "id": "a84da514",
   "metadata": {},
   "outputs": [],
   "source": [
    "flights_st = (\n",
    "    to_semantic_table(tables[\"flights_tbl\"])\n",
    "    .with_dimensions(\n",
    "        origin=lambda t: t.origin,\n",
    "        carrier=lambda t: t.carrier,\n",
    "        month=lambda t: t.arr_time.truncate(\"month\"),\n",
    "    )\n",
    "    .with_measures(\n",
    "        flight_count=lambda t: t.count(),\n",
    "        avg_dep_delay=lambda t: t.dep_delay.mean(),\n",
    "    )\n",
    ")"
   ]
  },
  {
   "cell_type": "code",
   "execution_count": 2,
   "id": "7a6fa7fc",
   "metadata": {},
   "outputs": [
    {
     "ename": "NameError",
     "evalue": "name 'flights_st' is not defined",
     "output_type": "error",
     "traceback": [
      "\u001b[31m---------------------------------------------------------------------------\u001b[39m",
      "\u001b[31mNameError\u001b[39m                                 Traceback (most recent call last)",
      "\u001b[36mCell\u001b[39m\u001b[36m \u001b[39m\u001b[32mIn[2]\u001b[39m\u001b[32m, line 1\u001b[39m\n\u001b[32m----> \u001b[39m\u001b[32m1\u001b[39m carrier_share = \u001b[43mflights_st\u001b[49m.group_by(\u001b[33m\"\u001b[39m\u001b[33mcarrier\u001b[39m\u001b[33m\"\u001b[39m).aggregate(\u001b[38;5;28;01mlambda\u001b[39;00m t: t.flight_count)\n\u001b[32m      2\u001b[39m carrier_expr = carrier_share.to_ibis()\n\u001b[32m      3\u001b[39m carrier_expr\n",
      "\u001b[31mNameError\u001b[39m: name 'flights_st' is not defined"
     ]
    }
   ],
   "source": [
    "carrier_share = flights_st.group_by(\"carrier\").aggregate(lambda t: t.flight_count)\n",
    "carrier_expr = carrier_share.to_ibis()\n",
    "carrier_expr"
   ]
  },
  {
   "cell_type": "code",
   "execution_count": 14,
   "id": "c1edb6f8",
   "metadata": {},
   "outputs": [
    {
     "ename": "OperationNotDefinedError",
     "evalue": "Compilation rule for 'SemanticTable' operation is not defined",
     "output_type": "error",
     "traceback": [
      "\u001b[31m---------------------------------------------------------------------------\u001b[39m",
      "\u001b[31mOperationNotDefinedError\u001b[39m                  Traceback (most recent call last)",
      "\u001b[36mCell\u001b[39m\u001b[36m \u001b[39m\u001b[32mIn[14]\u001b[39m\u001b[32m, line 1\u001b[39m\n\u001b[32m----> \u001b[39m\u001b[32m1\u001b[39m \u001b[43mcarrier_expr\u001b[49m\u001b[43m.\u001b[49m\u001b[43mexecute\u001b[49m\u001b[43m(\u001b[49m\u001b[43m)\u001b[49m\n",
      "\u001b[36mFile \u001b[39m\u001b[32m~/Documents/Sumeo/projects/boringdata/boring-semantic-layer/.venv/lib/python3.12/site-packages/ibis/expr/types/core.py:423\u001b[39m, in \u001b[36mExpr.execute\u001b[39m\u001b[34m(self, limit, params, **kwargs)\u001b[39m\n\u001b[32m    369\u001b[39m \u001b[38;5;28;01mdef\u001b[39;00m\u001b[38;5;250m \u001b[39m\u001b[34mexecute\u001b[39m(\n\u001b[32m    370\u001b[39m     \u001b[38;5;28mself\u001b[39m,\n\u001b[32m    371\u001b[39m     *,\n\u001b[32m   (...)\u001b[39m\u001b[32m    374\u001b[39m     **kwargs: Any,\n\u001b[32m    375\u001b[39m ) -> pd.DataFrame | pd.Series | Any:\n\u001b[32m    376\u001b[39m \u001b[38;5;250m    \u001b[39m\u001b[33;03m\"\"\"Execute an expression against its backend if one exists.\u001b[39;00m\n\u001b[32m    377\u001b[39m \n\u001b[32m    378\u001b[39m \u001b[33;03m    Parameters\u001b[39;00m\n\u001b[32m   (...)\u001b[39m\u001b[32m    421\u001b[39m \u001b[33;03m    [`Value.to_pandas()`](./expression-generic.qmd#ibis.expr.types.generic.Value.to_pandas)\u001b[39;00m\n\u001b[32m    422\u001b[39m \u001b[33;03m    \"\"\"\u001b[39;00m\n\u001b[32m--> \u001b[39m\u001b[32m423\u001b[39m     \u001b[38;5;28;01mreturn\u001b[39;00m \u001b[38;5;28;43mself\u001b[39;49m\u001b[43m.\u001b[49m\u001b[43m_find_backend\u001b[49m\u001b[43m(\u001b[49m\u001b[43muse_default\u001b[49m\u001b[43m=\u001b[49m\u001b[38;5;28;43;01mTrue\u001b[39;49;00m\u001b[43m)\u001b[49m\u001b[43m.\u001b[49m\u001b[43mexecute\u001b[49m\u001b[43m(\u001b[49m\n\u001b[32m    424\u001b[39m \u001b[43m        \u001b[49m\u001b[38;5;28;43mself\u001b[39;49m\u001b[43m,\u001b[49m\u001b[43m \u001b[49m\u001b[43mlimit\u001b[49m\u001b[43m=\u001b[49m\u001b[43mlimit\u001b[49m\u001b[43m,\u001b[49m\u001b[43m \u001b[49m\u001b[43mparams\u001b[49m\u001b[43m=\u001b[49m\u001b[43mparams\u001b[49m\u001b[43m,\u001b[49m\u001b[43m \u001b[49m\u001b[43m*\u001b[49m\u001b[43m*\u001b[49m\u001b[43mkwargs\u001b[49m\n\u001b[32m    425\u001b[39m \u001b[43m    \u001b[49m\u001b[43m)\u001b[49m\n",
      "\u001b[36mFile \u001b[39m\u001b[32m~/Documents/Sumeo/projects/boringdata/boring-semantic-layer/.venv/lib/python3.12/site-packages/ibis/backends/duckdb/__init__.py:1393\u001b[39m, in \u001b[36mBackend.execute\u001b[39m\u001b[34m(self, expr, params, limit, **kwargs)\u001b[39m\n\u001b[32m   1389\u001b[39m \u001b[38;5;28;01mimport\u001b[39;00m\u001b[38;5;250m \u001b[39m\u001b[34;01mpyarrow_hotfix\u001b[39;00m  \u001b[38;5;66;03m# noqa: F401\u001b[39;00m\n\u001b[32m   1391\u001b[39m \u001b[38;5;28;01mfrom\u001b[39;00m\u001b[38;5;250m \u001b[39m\u001b[34;01mibis\u001b[39;00m\u001b[34;01m.\u001b[39;00m\u001b[34;01mbackends\u001b[39;00m\u001b[34;01m.\u001b[39;00m\u001b[34;01mduckdb\u001b[39;00m\u001b[34;01m.\u001b[39;00m\u001b[34;01mconverter\u001b[39;00m\u001b[38;5;250m \u001b[39m\u001b[38;5;28;01mimport\u001b[39;00m DuckDBPandasData\n\u001b[32m-> \u001b[39m\u001b[32m1393\u001b[39m rel = \u001b[38;5;28;43mself\u001b[39;49m\u001b[43m.\u001b[49m\u001b[43m_to_duckdb_relation\u001b[49m\u001b[43m(\u001b[49m\u001b[43mexpr\u001b[49m\u001b[43m,\u001b[49m\u001b[43m \u001b[49m\u001b[43mparams\u001b[49m\u001b[43m=\u001b[49m\u001b[43mparams\u001b[49m\u001b[43m,\u001b[49m\u001b[43m \u001b[49m\u001b[43mlimit\u001b[49m\u001b[43m=\u001b[49m\u001b[43mlimit\u001b[49m\u001b[43m,\u001b[49m\u001b[43m \u001b[49m\u001b[43m*\u001b[49m\u001b[43m*\u001b[49m\u001b[43mkwargs\u001b[49m\u001b[43m)\u001b[49m\n\u001b[32m   1394\u001b[39m table = rel.arrow()\n\u001b[32m   1396\u001b[39m df = pd.DataFrame(\n\u001b[32m   1397\u001b[39m     {\n\u001b[32m   1398\u001b[39m         name: (\n\u001b[32m   (...)\u001b[39m\u001b[32m   1411\u001b[39m     }\n\u001b[32m   1412\u001b[39m )\n",
      "\u001b[36mFile \u001b[39m\u001b[32m~/Documents/Sumeo/projects/boringdata/boring-semantic-layer/.venv/lib/python3.12/site-packages/ibis/backends/duckdb/__init__.py:1313\u001b[39m, in \u001b[36mBackend._to_duckdb_relation\u001b[39m\u001b[34m(self, expr, params, limit, **kwargs)\u001b[39m\n\u001b[32m   1311\u001b[39m \u001b[38;5;28mself\u001b[39m._run_pre_execute_hooks(expr)\n\u001b[32m   1312\u001b[39m table_expr = expr.as_table()\n\u001b[32m-> \u001b[39m\u001b[32m1313\u001b[39m sql = \u001b[38;5;28;43mself\u001b[39;49m\u001b[43m.\u001b[49m\u001b[43mcompile\u001b[49m\u001b[43m(\u001b[49m\u001b[43mtable_expr\u001b[49m\u001b[43m,\u001b[49m\u001b[43m \u001b[49m\u001b[43mlimit\u001b[49m\u001b[43m=\u001b[49m\u001b[43mlimit\u001b[49m\u001b[43m,\u001b[49m\u001b[43m \u001b[49m\u001b[43mparams\u001b[49m\u001b[43m=\u001b[49m\u001b[43mparams\u001b[49m\u001b[43m,\u001b[49m\u001b[43m \u001b[49m\u001b[43m*\u001b[49m\u001b[43m*\u001b[49m\u001b[43mkwargs\u001b[49m\u001b[43m)\u001b[49m\n\u001b[32m   1314\u001b[39m \u001b[38;5;28;01mif\u001b[39;00m table_expr.schema().geospatial:\n\u001b[32m   1315\u001b[39m     \u001b[38;5;28mself\u001b[39m._load_extensions([\u001b[33m\"\u001b[39m\u001b[33mspatial\u001b[39m\u001b[33m\"\u001b[39m])\n",
      "\u001b[36mFile \u001b[39m\u001b[32m~/Documents/Sumeo/projects/boringdata/boring-semantic-layer/.venv/lib/python3.12/site-packages/ibis/backends/sql/__init__.py:120\u001b[39m, in \u001b[36mSQLBackend.compile\u001b[39m\u001b[34m(self, expr, limit, params, pretty)\u001b[39m\n\u001b[32m     93\u001b[39m \u001b[38;5;28;01mdef\u001b[39;00m\u001b[38;5;250m \u001b[39m\u001b[34mcompile\u001b[39m(\n\u001b[32m     94\u001b[39m     \u001b[38;5;28mself\u001b[39m,\n\u001b[32m     95\u001b[39m     expr: ir.Expr,\n\u001b[32m   (...)\u001b[39m\u001b[32m    100\u001b[39m     pretty: \u001b[38;5;28mbool\u001b[39m = \u001b[38;5;28;01mFalse\u001b[39;00m,\n\u001b[32m    101\u001b[39m ) -> \u001b[38;5;28mstr\u001b[39m:\n\u001b[32m    102\u001b[39m \u001b[38;5;250m    \u001b[39m\u001b[33;03m\"\"\"Compile an expression to a SQL string.\u001b[39;00m\n\u001b[32m    103\u001b[39m \n\u001b[32m    104\u001b[39m \u001b[33;03m    Parameters\u001b[39;00m\n\u001b[32m   (...)\u001b[39m\u001b[32m    118\u001b[39m \u001b[33;03m        Compiled expression\u001b[39;00m\n\u001b[32m    119\u001b[39m \u001b[33;03m    \"\"\"\u001b[39;00m\n\u001b[32m--> \u001b[39m\u001b[32m120\u001b[39m     query = \u001b[38;5;28;43mself\u001b[39;49m\u001b[43m.\u001b[49m\u001b[43mcompiler\u001b[49m\u001b[43m.\u001b[49m\u001b[43mto_sqlglot\u001b[49m\u001b[43m(\u001b[49m\u001b[43mexpr\u001b[49m\u001b[43m,\u001b[49m\u001b[43m \u001b[49m\u001b[43mlimit\u001b[49m\u001b[43m=\u001b[49m\u001b[43mlimit\u001b[49m\u001b[43m,\u001b[49m\u001b[43m \u001b[49m\u001b[43mparams\u001b[49m\u001b[43m=\u001b[49m\u001b[43mparams\u001b[49m\u001b[43m)\u001b[49m\n\u001b[32m    121\u001b[39m     sql = query.sql(dialect=\u001b[38;5;28mself\u001b[39m.dialect, pretty=pretty, copy=\u001b[38;5;28;01mFalse\u001b[39;00m)\n\u001b[32m    122\u001b[39m     \u001b[38;5;28mself\u001b[39m._log(sql)\n",
      "\u001b[36mFile \u001b[39m\u001b[32m~/Documents/Sumeo/projects/boringdata/boring-semantic-layer/.venv/lib/python3.12/site-packages/ibis/backends/sql/compilers/duckdb.py:117\u001b[39m, in \u001b[36mDuckDBCompiler.to_sqlglot\u001b[39m\u001b[34m(self, expr, limit, params)\u001b[39m\n\u001b[32m    110\u001b[39m \u001b[38;5;28;01mdef\u001b[39;00m\u001b[38;5;250m \u001b[39m\u001b[34mto_sqlglot\u001b[39m(\n\u001b[32m    111\u001b[39m     \u001b[38;5;28mself\u001b[39m,\n\u001b[32m    112\u001b[39m     expr: ir.Expr,\n\u001b[32m   (...)\u001b[39m\u001b[32m    115\u001b[39m     params: Mapping[ir.Expr, Any] | \u001b[38;5;28;01mNone\u001b[39;00m = \u001b[38;5;28;01mNone\u001b[39;00m,\n\u001b[32m    116\u001b[39m ):\n\u001b[32m--> \u001b[39m\u001b[32m117\u001b[39m     sql = \u001b[38;5;28;43msuper\u001b[39;49m\u001b[43m(\u001b[49m\u001b[43m)\u001b[49m\u001b[43m.\u001b[49m\u001b[43mto_sqlglot\u001b[49m\u001b[43m(\u001b[49m\u001b[43mexpr\u001b[49m\u001b[43m,\u001b[49m\u001b[43m \u001b[49m\u001b[43mlimit\u001b[49m\u001b[43m=\u001b[49m\u001b[43mlimit\u001b[49m\u001b[43m,\u001b[49m\u001b[43m \u001b[49m\u001b[43mparams\u001b[49m\u001b[43m=\u001b[49m\u001b[43mparams\u001b[49m\u001b[43m)\u001b[49m\n\u001b[32m    119\u001b[39m     table_expr = expr.as_table()\n\u001b[32m    120\u001b[39m     geocols = table_expr.schema().geospatial\n",
      "\u001b[36mFile \u001b[39m\u001b[32m~/Documents/Sumeo/projects/boringdata/boring-semantic-layer/.venv/lib/python3.12/site-packages/ibis/backends/sql/compilers/base.py:597\u001b[39m, in \u001b[36mSQLGlotCompiler.to_sqlglot\u001b[39m\u001b[34m(self, expr, limit, params)\u001b[39m\n\u001b[32m    594\u001b[39m \u001b[38;5;28;01mif\u001b[39;00m params \u001b[38;5;129;01mis\u001b[39;00m \u001b[38;5;28;01mNone\u001b[39;00m:\n\u001b[32m    595\u001b[39m     params = {}\n\u001b[32m--> \u001b[39m\u001b[32m597\u001b[39m sql = \u001b[38;5;28;43mself\u001b[39;49m\u001b[43m.\u001b[49m\u001b[43mtranslate\u001b[49m\u001b[43m(\u001b[49m\u001b[43mtable_expr\u001b[49m\u001b[43m.\u001b[49m\u001b[43mop\u001b[49m\u001b[43m(\u001b[49m\u001b[43m)\u001b[49m\u001b[43m,\u001b[49m\u001b[43m \u001b[49m\u001b[43mparams\u001b[49m\u001b[43m=\u001b[49m\u001b[43mparams\u001b[49m\u001b[43m)\u001b[49m\n\u001b[32m    598\u001b[39m \u001b[38;5;28;01massert\u001b[39;00m \u001b[38;5;129;01mnot\u001b[39;00m \u001b[38;5;28misinstance\u001b[39m(sql, sge.Subquery)\n\u001b[32m    600\u001b[39m \u001b[38;5;28;01mif\u001b[39;00m \u001b[38;5;28misinstance\u001b[39m(sql, sge.Table):\n",
      "\u001b[36mFile \u001b[39m\u001b[32m~/Documents/Sumeo/projects/boringdata/boring-semantic-layer/.venv/lib/python3.12/site-packages/ibis/backends/sql/compilers/base.py:665\u001b[39m, in \u001b[36mSQLGlotCompiler.translate\u001b[39m\u001b[34m(self, op, params)\u001b[39m\n\u001b[32m    662\u001b[39m             \u001b[38;5;28;01mreturn\u001b[39;00m result.as_(alias, quoted=\u001b[38;5;28mself\u001b[39m.quoted)\n\u001b[32m    664\u001b[39m \u001b[38;5;66;03m# apply translate rules in topological order\u001b[39;00m\n\u001b[32m--> \u001b[39m\u001b[32m665\u001b[39m results = \u001b[43mop\u001b[49m\u001b[43m.\u001b[49m\u001b[43mmap\u001b[49m\u001b[43m(\u001b[49m\u001b[43mfn\u001b[49m\u001b[43m)\u001b[49m\n\u001b[32m    667\u001b[39m \u001b[38;5;66;03m# get the root node as a sqlglot select statement\u001b[39;00m\n\u001b[32m    668\u001b[39m out = results[op]\n",
      "\u001b[36mFile \u001b[39m\u001b[32m~/Documents/Sumeo/projects/boringdata/boring-semantic-layer/.venv/lib/python3.12/site-packages/ibis/common/graph.py:305\u001b[39m, in \u001b[36mNode.map\u001b[39m\u001b[34m(self, fn, filter)\u001b[39m\n\u001b[32m    299\u001b[39m \u001b[38;5;28;01mfor\u001b[39;00m node \u001b[38;5;129;01min\u001b[39;00m graph:\n\u001b[32m    300\u001b[39m     \u001b[38;5;66;03m# minor optimization to directly recurse into the children\u001b[39;00m\n\u001b[32m    301\u001b[39m     kwargs = {\n\u001b[32m    302\u001b[39m         k: _recursive_lookup(v, results)\n\u001b[32m    303\u001b[39m         \u001b[38;5;28;01mfor\u001b[39;00m k, v \u001b[38;5;129;01min\u001b[39;00m \u001b[38;5;28mzip\u001b[39m(node.__argnames__, node.__args__)\n\u001b[32m    304\u001b[39m     }\n\u001b[32m--> \u001b[39m\u001b[32m305\u001b[39m     results[node] = \u001b[43mfn\u001b[49m\u001b[43m(\u001b[49m\u001b[43mnode\u001b[49m\u001b[43m,\u001b[49m\u001b[43m \u001b[49m\u001b[43mresults\u001b[49m\u001b[43m,\u001b[49m\u001b[43m \u001b[49m\u001b[43m*\u001b[49m\u001b[43m*\u001b[49m\u001b[43mkwargs\u001b[49m\u001b[43m)\u001b[49m\n\u001b[32m    307\u001b[39m \u001b[38;5;28;01mreturn\u001b[39;00m results\n",
      "\u001b[36mFile \u001b[39m\u001b[32m~/Documents/Sumeo/projects/boringdata/boring-semantic-layer/.venv/lib/python3.12/site-packages/ibis/backends/sql/compilers/base.py:645\u001b[39m, in \u001b[36mSQLGlotCompiler.translate.<locals>.fn\u001b[39m\u001b[34m(node, __unused__, **kwargs)\u001b[39m\n\u001b[32m    644\u001b[39m \u001b[38;5;28;01mdef\u001b[39;00m\u001b[38;5;250m \u001b[39m\u001b[34mfn\u001b[39m(node, __unused__, **kwargs):\n\u001b[32m--> \u001b[39m\u001b[32m645\u001b[39m     result = \u001b[38;5;28;43mself\u001b[39;49m\u001b[43m.\u001b[49m\u001b[43mvisit_node\u001b[49m\u001b[43m(\u001b[49m\u001b[43mnode\u001b[49m\u001b[43m,\u001b[49m\u001b[43m \u001b[49m\u001b[43m*\u001b[49m\u001b[43m*\u001b[49m\u001b[43mkwargs\u001b[49m\u001b[43m)\u001b[49m\n\u001b[32m    647\u001b[39m     \u001b[38;5;66;03m# if it's not a relation then we don't need to do anything special\u001b[39;00m\n\u001b[32m    648\u001b[39m     \u001b[38;5;28;01mif\u001b[39;00m node \u001b[38;5;129;01mis\u001b[39;00m op \u001b[38;5;129;01mor\u001b[39;00m \u001b[38;5;129;01mnot\u001b[39;00m \u001b[38;5;28misinstance\u001b[39m(node, ops.Relation):\n",
      "\u001b[36mFile \u001b[39m\u001b[32m~/Documents/Sumeo/projects/boringdata/boring-semantic-layer/.venv/lib/python3.12/site-packages/ibis/backends/sql/compilers/base.py:691\u001b[39m, in \u001b[36mSQLGlotCompiler.visit_node\u001b[39m\u001b[34m(self, op, **kwargs)\u001b[39m\n\u001b[32m    689\u001b[39m method = \u001b[38;5;28mgetattr\u001b[39m(\u001b[38;5;28mself\u001b[39m, \u001b[33mf\u001b[39m\u001b[33m\"\u001b[39m\u001b[33mvisit_\u001b[39m\u001b[38;5;132;01m{\u001b[39;00m\u001b[38;5;28mtype\u001b[39m(op).\u001b[34m__name__\u001b[39m\u001b[38;5;132;01m}\u001b[39;00m\u001b[33m\"\u001b[39m, \u001b[38;5;28;01mNone\u001b[39;00m)\n\u001b[32m    690\u001b[39m \u001b[38;5;28;01mif\u001b[39;00m method \u001b[38;5;129;01mis\u001b[39;00m \u001b[38;5;129;01mnot\u001b[39;00m \u001b[38;5;28;01mNone\u001b[39;00m:\n\u001b[32m--> \u001b[39m\u001b[32m691\u001b[39m     \u001b[38;5;28;01mreturn\u001b[39;00m \u001b[43mmethod\u001b[49m\u001b[43m(\u001b[49m\u001b[43mop\u001b[49m\u001b[43m,\u001b[49m\u001b[43m \u001b[49m\u001b[43m*\u001b[49m\u001b[43m*\u001b[49m\u001b[43mkwargs\u001b[49m\u001b[43m)\u001b[49m\n\u001b[32m    692\u001b[39m \u001b[38;5;28;01melse\u001b[39;00m:\n\u001b[32m    693\u001b[39m     \u001b[38;5;28;01mraise\u001b[39;00m com.OperationNotDefinedError(\n\u001b[32m    694\u001b[39m         \u001b[33mf\u001b[39m\u001b[33m\"\u001b[39m\u001b[33mNo translation rule for \u001b[39m\u001b[38;5;132;01m{\u001b[39;00m\u001b[38;5;28mtype\u001b[39m(op).\u001b[34m__name__\u001b[39m\u001b[38;5;132;01m}\u001b[39;00m\u001b[33m\"\u001b[39m\n\u001b[32m    695\u001b[39m     )\n",
      "\u001b[36mFile \u001b[39m\u001b[32m~/Documents/Sumeo/projects/boringdata/boring-semantic-layer/.venv/lib/python3.12/site-packages/ibis/backends/sql/compilers/base.py:1555\u001b[39m, in \u001b[36mSQLGlotCompiler.visit_Undefined\u001b[39m\u001b[34m(self, op, **_)\u001b[39m\n\u001b[32m   1554\u001b[39m \u001b[38;5;28;01mdef\u001b[39;00m\u001b[38;5;250m \u001b[39m\u001b[34mvisit_Undefined\u001b[39m(\u001b[38;5;28mself\u001b[39m, op, **_):\n\u001b[32m-> \u001b[39m\u001b[32m1555\u001b[39m     \u001b[38;5;28;01mraise\u001b[39;00m com.OperationNotDefinedError(\n\u001b[32m   1556\u001b[39m         \u001b[33mf\u001b[39m\u001b[33m\"\u001b[39m\u001b[33mCompilation rule for \u001b[39m\u001b[38;5;132;01m{\u001b[39;00m\u001b[38;5;28mtype\u001b[39m(op).\u001b[34m__name__\u001b[39m\u001b[38;5;132;01m!r}\u001b[39;00m\u001b[33m operation is not defined\u001b[39m\u001b[33m\"\u001b[39m\n\u001b[32m   1557\u001b[39m     )\n",
      "\u001b[31mOperationNotDefinedError\u001b[39m: Compilation rule for 'SemanticTable' operation is not defined"
     ]
    }
   ],
   "source": [
    "carrier_expr.execute()"
   ]
  }
 ],
 "metadata": {
  "kernelspec": {
   "display_name": ".venv",
   "language": "python",
   "name": "python3"
  },
  "language_info": {
   "codemirror_mode": {
    "name": "ipython",
    "version": 3
   },
   "file_extension": ".py",
   "mimetype": "text/x-python",
   "name": "python",
   "nbconvert_exporter": "python",
   "pygments_lexer": "ipython3",
   "version": "3.12.9"
  }
 },
 "nbformat": 4,
 "nbformat_minor": 5
}
