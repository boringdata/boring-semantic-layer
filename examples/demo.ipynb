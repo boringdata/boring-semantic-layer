{
 "cells": [
  {
   "cell_type": "code",
   "execution_count": 8,
   "metadata": {},
   "outputs": [
    {
     "name": "stdout",
     "output_type": "stream",
     "text": [
      "flights\n",
      "carriers\n"
     ]
    }
   ],
   "source": [
    "from boring_semantic_layer.semantic_model import Join, SemanticModel\n",
    "import ibis\n",
    "\n",
    "from example_semantic_model import flights_sm, carriers_sm\n",
    "\n",
    "print(flights_sm.name)\n",
    "print(carriers_sm.name)\n"
   ]
  },
  {
   "cell_type": "code",
   "execution_count": 9,
   "metadata": {},
   "outputs": [
    {
     "name": "stdout",
     "output_type": "stream",
     "text": [
      "Available dimensions: ['origin', 'destination', 'carrier', 'tail_num', 'carriers.code', 'carriers.name', 'carriers.nickname']\n",
      "Available measures: ['flight_count', 'avg_dep_delay', 'avg_distance', 'carriers.carrier_count']\n",
      "\n",
      "Top 10 carriers by flight count:\n",
      "   flight_count\n",
      "0        344827\n"
     ]
    }
   ],
   "source": [
    "\n",
    "print(\"Available dimensions:\", flights_sm.available_dimensions)\n",
    "print(\"Available measures:\", flights_sm.available_measures)\n",
    "\n",
    "expr = flights_sm.query(\n",
    "    dims=[],#[\"destination\"],\n",
    "    measures=[\"flight_count\"],\n",
    "    order_by=[],\n",
    "    #filters=[lambda t: t.dep_time.year() == 2024],\n",
    "    limit=1,\n",
    ")\n",
    "\n",
    "df = expr.execute()\n",
    "print(\"\\nTop 10 carriers by flight count:\")\n",
    "print(df)\n"
   ]
  }
 ],
 "metadata": {
  "kernelspec": {
   "display_name": ".venv",
   "language": "python",
   "name": "python3"
  },
  "language_info": {
   "codemirror_mode": {
    "name": "ipython",
    "version": 3
   },
   "file_extension": ".py",
   "mimetype": "text/x-python",
   "name": "python",
   "nbconvert_exporter": "python",
   "pygments_lexer": "ipython3",
   "version": "3.13.2"
  }
 },
 "nbformat": 4,
 "nbformat_minor": 2
}
