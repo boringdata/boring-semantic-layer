{
 "cells": [
  {
   "cell_type": "code",
   "execution_count": 1,
   "metadata": {},
   "outputs": [
    {
     "name": "stdout",
     "output_type": "stream",
     "text": [
      "flights\n",
      "carriers\n"
     ]
    }
   ],
   "source": [
    "from boring_semantic_layer.semantic_model import Join, SemanticModel\n",
    "import ibis\n",
    "\n",
    "from example_semantic_model import flights_sm, carriers_sm, flights_tbl\n",
    "\n",
    "print(flights_sm.name)\n",
    "print(carriers_sm.name)\n"
   ]
  },
  {
   "cell_type": "code",
   "execution_count": 2,
   "metadata": {},
   "outputs": [
    {
     "data": {
      "text/plain": [
       "{'name': 'flights',\n",
       " 'dimensions': ['origin',\n",
       "  'destination',\n",
       "  'carrier',\n",
       "  'tail_num',\n",
       "  'arr_time',\n",
       "  'carriers.code',\n",
       "  'carriers.name',\n",
       "  'carriers.nickname'],\n",
       " 'measures': ['flight_count',\n",
       "  'avg_dep_delay',\n",
       "  'avg_distance',\n",
       "  'carriers.carrier_count'],\n",
       " 'timeDimension': 'arr_time',\n",
       " 'smallestTimeGrain': 'TIME_GRAIN_SECOND'}"
      ]
     },
     "execution_count": 2,
     "metadata": {},
     "output_type": "execute_result"
    }
   ],
   "source": [
    "flights_sm.json_definition"
   ]
  },
  {
   "cell_type": "code",
   "execution_count": 7,
   "metadata": {},
   "outputs": [
    {
     "name": "stdout",
     "output_type": "stream",
     "text": [
      "Available dimensions: ['origin', 'destination', 'carrier', 'tail_num', 'arr_time', 'carriers.code', 'carriers.name', 'carriers.nickname']\n",
      "Available measures: ['flight_count', 'avg_dep_delay', 'avg_distance', 'carriers.carrier_count']\n",
      "\n",
      "Top 10 carriers by flight count:\n",
      "   flight_count\n",
      "0         68303\n"
     ]
    }
   ],
   "source": [
    "\n",
    "print(\"Available dimensions:\", flights_sm.available_dimensions)\n",
    "print(\"Available measures:\", flights_sm.available_measures)\n",
    "from ibis import _\n",
    "expr = flights_sm.query(\n",
    "    dims=[],\n",
    "    measures=[\"flight_count\"],\n",
    "    order_by=[],\n",
    "    time_range={\n",
    "        \"start\": \"2004-01-01T00:00:00Z\",\n",
    "        \"end\": \"2004-12-31T23:59:59Z\"\n",
    "    },\n",
    "    #time_grain=\"TIME_GRAIN_YEAR\",\n",
    "    #filters=[_.destination == \"LAX\"],\n",
    "    limit=10,\n",
    ")\n",
    "df = expr.execute()\n",
    "print(\"\\nTop 10 carriers by flight count:\")\n",
    "print(df)\n"
   ]
  },
  {
   "cell_type": "code",
   "execution_count": 5,
   "metadata": {},
   "outputs": [
    {
     "data": {
      "text/html": [
       "<div>\n",
       "<style scoped>\n",
       "    .dataframe tbody tr th:only-of-type {\n",
       "        vertical-align: middle;\n",
       "    }\n",
       "\n",
       "    .dataframe tbody tr th {\n",
       "        vertical-align: top;\n",
       "    }\n",
       "\n",
       "    .dataframe thead th {\n",
       "        text-align: right;\n",
       "    }\n",
       "</style>\n",
       "<table border=\"1\" class=\"dataframe\">\n",
       "  <thead>\n",
       "    <tr style=\"text-align: right;\">\n",
       "      <th></th>\n",
       "      <th>arr_time</th>\n",
       "    </tr>\n",
       "  </thead>\n",
       "  <tbody>\n",
       "    <tr>\n",
       "      <th>0</th>\n",
       "      <td>2004-11-18 23:09:00</td>\n",
       "    </tr>\n",
       "    <tr>\n",
       "      <th>1</th>\n",
       "      <td>2004-10-12 21:28:00</td>\n",
       "    </tr>\n",
       "    <tr>\n",
       "      <th>2</th>\n",
       "      <td>2004-11-24 11:14:00</td>\n",
       "    </tr>\n",
       "    <tr>\n",
       "      <th>3</th>\n",
       "      <td>2004-08-31 21:06:00</td>\n",
       "    </tr>\n",
       "    <tr>\n",
       "      <th>4</th>\n",
       "      <td>2004-07-27 10:59:00</td>\n",
       "    </tr>\n",
       "    <tr>\n",
       "      <th>...</th>\n",
       "      <td>...</td>\n",
       "    </tr>\n",
       "    <tr>\n",
       "      <th>344822</th>\n",
       "      <td>2004-09-10 11:48:00</td>\n",
       "    </tr>\n",
       "    <tr>\n",
       "      <th>344823</th>\n",
       "      <td>2004-06-17 21:40:00</td>\n",
       "    </tr>\n",
       "    <tr>\n",
       "      <th>344824</th>\n",
       "      <td>2004-06-25 13:44:00</td>\n",
       "    </tr>\n",
       "    <tr>\n",
       "      <th>344825</th>\n",
       "      <td>2004-07-12 13:43:00</td>\n",
       "    </tr>\n",
       "    <tr>\n",
       "      <th>344826</th>\n",
       "      <td>2004-12-16 21:51:00</td>\n",
       "    </tr>\n",
       "  </tbody>\n",
       "</table>\n",
       "<p>344827 rows × 1 columns</p>\n",
       "</div>"
      ],
      "text/plain": [
       "                  arr_time\n",
       "0      2004-11-18 23:09:00\n",
       "1      2004-10-12 21:28:00\n",
       "2      2004-11-24 11:14:00\n",
       "3      2004-08-31 21:06:00\n",
       "4      2004-07-27 10:59:00\n",
       "...                    ...\n",
       "344822 2004-09-10 11:48:00\n",
       "344823 2004-06-17 21:40:00\n",
       "344824 2004-06-25 13:44:00\n",
       "344825 2004-07-12 13:43:00\n",
       "344826 2004-12-16 21:51:00\n",
       "\n",
       "[344827 rows x 1 columns]"
      ]
     },
     "execution_count": 5,
     "metadata": {},
     "output_type": "execute_result"
    }
   ],
   "source": [
    "flights_tbl.select(\"arr_time\").execute()"
   ]
  },
  {
   "cell_type": "code",
   "execution_count": 26,
   "metadata": {},
   "outputs": [
    {
     "name": "stdout",
     "output_type": "stream",
     "text": [
      "Available dimensions: ['origin', 'destination', 'carrier', 'tail_num', 'carriers.code', 'carriers.name', 'carriers.nickname']\n",
      "Available measures: ['flight_count', 'avg_dep_delay', 'avg_distance', 'carriers.carrier_count']\n",
      "\n",
      "Top 10 carriers by flight count:\n",
      "   flight_count\n",
      "0         11074\n"
     ]
    }
   ],
   "source": []
  }
 ],
 "metadata": {
  "kernelspec": {
   "display_name": ".venv",
   "language": "python",
   "name": "python3"
  },
  "language_info": {
   "codemirror_mode": {
    "name": "ipython",
    "version": 3
   },
   "file_extension": ".py",
   "mimetype": "text/x-python",
   "name": "python",
   "nbconvert_exporter": "python",
   "pygments_lexer": "ipython3",
   "version": "3.13.2"
  }
 },
 "nbformat": 4,
 "nbformat_minor": 2
}
